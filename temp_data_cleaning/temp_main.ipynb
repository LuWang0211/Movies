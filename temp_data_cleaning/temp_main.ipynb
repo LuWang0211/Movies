{
 "cells": [
  {
   "cell_type": "code",
   "execution_count": 3,
   "metadata": {},
   "outputs": [],
   "source": [
    "%matplotlib inline\n",
    "\n",
    "import numpy as np\n",
    "import pandas as pd\n",
    "from pandas import Series, DataFrame\n",
    "import json\n",
    "import matplotlib.pyplot as plt\n",
    "import scipy.stats as stats\n",
    "\n",
    "# Always make it pretty.\n",
    "plt.style.use('ggplot')"
   ]
  },
  {
   "cell_type": "code",
   "execution_count": 2,
   "metadata": {},
   "outputs": [
    {
     "name": "stderr",
     "output_type": "stream",
     "text": [
      "/opt/conda/lib/python3.7/site-packages/IPython/core/interactiveshell.py:3049: DtypeWarning: Columns (8,13) have mixed types. Specify dtype option on import or set low_memory=False.\n",
      "  interactivity=interactivity, compiler=compiler, result=result)\n"
     ]
    }
   ],
   "source": [
    "movies_df = pd.read_csv(\"IMDb_datasets/movies.csv\")"
   ]
  },
  {
   "cell_type": "code",
   "execution_count": 9,
   "metadata": {},
   "outputs": [
    {
     "data": {
      "text/html": [
       "<div>\n",
       "<style scoped>\n",
       "    .dataframe tbody tr th:only-of-type {\n",
       "        vertical-align: middle;\n",
       "    }\n",
       "\n",
       "    .dataframe tbody tr th {\n",
       "        vertical-align: top;\n",
       "    }\n",
       "\n",
       "    .dataframe thead th {\n",
       "        text-align: right;\n",
       "    }\n",
       "</style>\n",
       "<table border=\"1\" class=\"dataframe\">\n",
       "  <thead>\n",
       "    <tr style=\"text-align: right;\">\n",
       "      <th></th>\n",
       "      <th>Unnamed: 0</th>\n",
       "      <th>titleId</th>\n",
       "      <th>title_ordering</th>\n",
       "      <th>title</th>\n",
       "      <th>region</th>\n",
       "      <th>language</th>\n",
       "      <th>types</th>\n",
       "      <th>attributes</th>\n",
       "      <th>isOriginalTitle</th>\n",
       "      <th>titleType</th>\n",
       "      <th>primaryTitle</th>\n",
       "      <th>originalTitle</th>\n",
       "      <th>isAdult</th>\n",
       "      <th>startYear</th>\n",
       "      <th>endYear</th>\n",
       "      <th>runtimeMinutes</th>\n",
       "      <th>genres</th>\n",
       "      <th>averageRating</th>\n",
       "      <th>numVotes</th>\n",
       "    </tr>\n",
       "  </thead>\n",
       "  <tbody>\n",
       "    <tr>\n",
       "      <th>0</th>\n",
       "      <td>0</td>\n",
       "      <td>tt0004272</td>\n",
       "      <td>1</td>\n",
       "      <td>Lucille Love, la chica misteriosa</td>\n",
       "      <td>VE</td>\n",
       "      <td>\\N</td>\n",
       "      <td>\\N</td>\n",
       "      <td>\\N</td>\n",
       "      <td>0</td>\n",
       "      <td>movie</td>\n",
       "      <td>Lucille Love: The Girl of Mystery</td>\n",
       "      <td>Lucille Love: The Girl of Mystery</td>\n",
       "      <td>0</td>\n",
       "      <td>1914</td>\n",
       "      <td>\\N</td>\n",
       "      <td>300</td>\n",
       "      <td>Action</td>\n",
       "      <td>5.8</td>\n",
       "      <td>9</td>\n",
       "    </tr>\n",
       "    <tr>\n",
       "      <th>1</th>\n",
       "      <td>1</td>\n",
       "      <td>tt0004272</td>\n",
       "      <td>2</td>\n",
       "      <td>Lucille Love: The Girl of Mystery</td>\n",
       "      <td>US</td>\n",
       "      <td>\\N</td>\n",
       "      <td>\\N</td>\n",
       "      <td>\\N</td>\n",
       "      <td>0</td>\n",
       "      <td>movie</td>\n",
       "      <td>Lucille Love: The Girl of Mystery</td>\n",
       "      <td>Lucille Love: The Girl of Mystery</td>\n",
       "      <td>0</td>\n",
       "      <td>1914</td>\n",
       "      <td>\\N</td>\n",
       "      <td>300</td>\n",
       "      <td>Action</td>\n",
       "      <td>5.8</td>\n",
       "      <td>9</td>\n",
       "    </tr>\n",
       "    <tr>\n",
       "      <th>2</th>\n",
       "      <td>2</td>\n",
       "      <td>tt0004272</td>\n",
       "      <td>3</td>\n",
       "      <td>Lucille Love: The Girl of Mystery</td>\n",
       "      <td>\\N</td>\n",
       "      <td>\\N</td>\n",
       "      <td>original</td>\n",
       "      <td>\\N</td>\n",
       "      <td>1</td>\n",
       "      <td>movie</td>\n",
       "      <td>Lucille Love: The Girl of Mystery</td>\n",
       "      <td>Lucille Love: The Girl of Mystery</td>\n",
       "      <td>0</td>\n",
       "      <td>1914</td>\n",
       "      <td>\\N</td>\n",
       "      <td>300</td>\n",
       "      <td>Action</td>\n",
       "      <td>5.8</td>\n",
       "      <td>9</td>\n",
       "    </tr>\n",
       "    <tr>\n",
       "      <th>3</th>\n",
       "      <td>3</td>\n",
       "      <td>tt0004336</td>\n",
       "      <td>1</td>\n",
       "      <td>El misterio del millón de dólares</td>\n",
       "      <td>ES</td>\n",
       "      <td>\\N</td>\n",
       "      <td>\\N</td>\n",
       "      <td>\\N</td>\n",
       "      <td>0</td>\n",
       "      <td>movie</td>\n",
       "      <td>The Million Dollar Mystery</td>\n",
       "      <td>The Million Dollar Mystery</td>\n",
       "      <td>0</td>\n",
       "      <td>1914</td>\n",
       "      <td>\\N</td>\n",
       "      <td>\\N</td>\n",
       "      <td>Adventure,Mystery</td>\n",
       "      <td>5.5</td>\n",
       "      <td>21</td>\n",
       "    </tr>\n",
       "    <tr>\n",
       "      <th>4</th>\n",
       "      <td>4</td>\n",
       "      <td>tt0004336</td>\n",
       "      <td>2</td>\n",
       "      <td>The Million Dollar Mystery</td>\n",
       "      <td>\\N</td>\n",
       "      <td>\\N</td>\n",
       "      <td>original</td>\n",
       "      <td>\\N</td>\n",
       "      <td>1</td>\n",
       "      <td>movie</td>\n",
       "      <td>The Million Dollar Mystery</td>\n",
       "      <td>The Million Dollar Mystery</td>\n",
       "      <td>0</td>\n",
       "      <td>1914</td>\n",
       "      <td>\\N</td>\n",
       "      <td>\\N</td>\n",
       "      <td>Adventure,Mystery</td>\n",
       "      <td>5.5</td>\n",
       "      <td>21</td>\n",
       "    </tr>\n",
       "  </tbody>\n",
       "</table>\n",
       "</div>"
      ],
      "text/plain": [
       "   Unnamed: 0    titleId  title_ordering                              title  \\\n",
       "0           0  tt0004272               1  Lucille Love, la chica misteriosa   \n",
       "1           1  tt0004272               2  Lucille Love: The Girl of Mystery   \n",
       "2           2  tt0004272               3  Lucille Love: The Girl of Mystery   \n",
       "3           3  tt0004336               1  El misterio del millón de dólares   \n",
       "4           4  tt0004336               2         The Million Dollar Mystery   \n",
       "\n",
       "  region language     types attributes isOriginalTitle titleType  \\\n",
       "0     VE       \\N        \\N         \\N               0     movie   \n",
       "1     US       \\N        \\N         \\N               0     movie   \n",
       "2     \\N       \\N  original         \\N               1     movie   \n",
       "3     ES       \\N        \\N         \\N               0     movie   \n",
       "4     \\N       \\N  original         \\N               1     movie   \n",
       "\n",
       "                        primaryTitle                      originalTitle  \\\n",
       "0  Lucille Love: The Girl of Mystery  Lucille Love: The Girl of Mystery   \n",
       "1  Lucille Love: The Girl of Mystery  Lucille Love: The Girl of Mystery   \n",
       "2  Lucille Love: The Girl of Mystery  Lucille Love: The Girl of Mystery   \n",
       "3         The Million Dollar Mystery         The Million Dollar Mystery   \n",
       "4         The Million Dollar Mystery         The Million Dollar Mystery   \n",
       "\n",
       "   isAdult startYear endYear runtimeMinutes             genres  averageRating  \\\n",
       "0        0      1914      \\N            300             Action            5.8   \n",
       "1        0      1914      \\N            300             Action            5.8   \n",
       "2        0      1914      \\N            300             Action            5.8   \n",
       "3        0      1914      \\N             \\N  Adventure,Mystery            5.5   \n",
       "4        0      1914      \\N             \\N  Adventure,Mystery            5.5   \n",
       "\n",
       "   numVotes  \n",
       "0         9  \n",
       "1         9  \n",
       "2         9  \n",
       "3        21  \n",
       "4        21  "
      ]
     },
     "execution_count": 9,
     "metadata": {},
     "output_type": "execute_result"
    }
   ],
   "source": [
    "movies_df.head()"
   ]
  },
  {
   "cell_type": "code",
   "execution_count": 5,
   "metadata": {},
   "outputs": [
    {
     "name": "stdout",
     "output_type": "stream",
     "text": [
      "<class 'pandas.core.frame.DataFrame'>\n",
      "RangeIndex: 1219539 entries, 0 to 1219538\n",
      "Data columns (total 19 columns):\n",
      "Unnamed: 0         1219539 non-null int64\n",
      "titleId            1219539 non-null object\n",
      "title_ordering     1219539 non-null int64\n",
      "title              1219539 non-null object\n",
      "region             1219535 non-null object\n",
      "language           1219539 non-null object\n",
      "types              1219539 non-null object\n",
      "attributes         1219539 non-null object\n",
      "isOriginalTitle    1219539 non-null object\n",
      "titleType          1219539 non-null object\n",
      "primaryTitle       1219539 non-null object\n",
      "originalTitle      1219539 non-null object\n",
      "isAdult            1219539 non-null int64\n",
      "startYear          1219539 non-null object\n",
      "endYear            1219539 non-null object\n",
      "runtimeMinutes     1219539 non-null object\n",
      "genres             1219539 non-null object\n",
      "averageRating      1219539 non-null float64\n",
      "numVotes           1219539 non-null int64\n",
      "dtypes: float64(1), int64(4), object(14)\n",
      "memory usage: 176.8+ MB\n"
     ]
    }
   ],
   "source": [
    "movies_df.info()"
   ]
  },
  {
   "cell_type": "code",
   "execution_count": 86,
   "metadata": {},
   "outputs": [],
   "source": [
    "movies_df_copy = movies_df.filter(['titleId','startYear','averageRating'], axis=1)\n",
    "averageRating_overyear = movies_df_copy.drop_duplicates(subset=['titleId'],keep='first').dropna()"
   ]
  },
  {
   "cell_type": "code",
   "execution_count": 87,
   "metadata": {},
   "outputs": [
    {
     "data": {
      "text/html": [
       "<div>\n",
       "<style scoped>\n",
       "    .dataframe tbody tr th:only-of-type {\n",
       "        vertical-align: middle;\n",
       "    }\n",
       "\n",
       "    .dataframe tbody tr th {\n",
       "        vertical-align: top;\n",
       "    }\n",
       "\n",
       "    .dataframe thead th {\n",
       "        text-align: right;\n",
       "    }\n",
       "</style>\n",
       "<table border=\"1\" class=\"dataframe\">\n",
       "  <thead>\n",
       "    <tr style=\"text-align: right;\">\n",
       "      <th></th>\n",
       "      <th>titleId</th>\n",
       "      <th>startYear</th>\n",
       "      <th>averageRating</th>\n",
       "    </tr>\n",
       "  </thead>\n",
       "  <tbody>\n",
       "    <tr>\n",
       "      <th>0</th>\n",
       "      <td>tt0004272</td>\n",
       "      <td>1914</td>\n",
       "      <td>5.8</td>\n",
       "    </tr>\n",
       "    <tr>\n",
       "      <th>3</th>\n",
       "      <td>tt0004336</td>\n",
       "      <td>1914</td>\n",
       "      <td>5.5</td>\n",
       "    </tr>\n",
       "    <tr>\n",
       "      <th>6</th>\n",
       "      <td>tt0005209</td>\n",
       "      <td>1915</td>\n",
       "      <td>5.7</td>\n",
       "    </tr>\n",
       "    <tr>\n",
       "      <th>7</th>\n",
       "      <td>tt0006204</td>\n",
       "      <td>1916</td>\n",
       "      <td>6.2</td>\n",
       "    </tr>\n",
       "    <tr>\n",
       "      <th>8</th>\n",
       "      <td>tt0006489</td>\n",
       "      <td>1916</td>\n",
       "      <td>5.3</td>\n",
       "    </tr>\n",
       "  </tbody>\n",
       "</table>\n",
       "</div>"
      ],
      "text/plain": [
       "     titleId startYear  averageRating\n",
       "0  tt0004272      1914            5.8\n",
       "3  tt0004336      1914            5.5\n",
       "6  tt0005209      1915            5.7\n",
       "7  tt0006204      1916            6.2\n",
       "8  tt0006489      1916            5.3"
      ]
     },
     "execution_count": 87,
     "metadata": {},
     "output_type": "execute_result"
    }
   ],
   "source": [
    "averageRating_overyear.head()"
   ]
  },
  {
   "cell_type": "code",
   "execution_count": 92,
   "metadata": {},
   "outputs": [],
   "source": [
    "averageRating_overyear['startYear'] = averageRating_overyear['startYear'].astype(str)"
   ]
  },
  {
   "cell_type": "code",
   "execution_count": 94,
   "metadata": {},
   "outputs": [],
   "source": [
    "averageRating_overyear.to_csv(\"IMDb_datasets/averageRating_overyear.csv\")"
   ]
  },
  {
   "cell_type": "code",
   "execution_count": 90,
   "metadata": {},
   "outputs": [
    {
     "data": {
      "text/plain": [
       "array([[<matplotlib.axes._subplots.AxesSubplot object at 0x7f9c8c3c3630>]],\n",
       "      dtype=object)"
      ]
     },
     "execution_count": 90,
     "metadata": {},
     "output_type": "execute_result"
    },
    {
     "data": {
      "image/png": "[encoded data removed]",
      "text/plain": [
       "<Figure size 720x720 with 1 Axes>"
      ]
     },
     "metadata": {
      "needs_background": "light"
     },
     "output_type": "display_data"
    }
   ],
   "source": [
    "pd.plotting.scatter_matrix(averageRating_overyear, figsize=(10, 10), s=100)"
   ]
  },
  {
   "cell_type": "code",
   "execution_count": 95,
   "metadata": {},
   "outputs": [
    {
     "data": {
      "image/png": "[encoded data removed]",
      "text/plain": [
       "<Figure size 432x288 with 1 Axes>"
      ]
     },
     "metadata": {
      "needs_background": "light"
     },
     "output_type": "display_data"
    }
   ],
   "source": [
    "# def get_avgrating_column(df):\n",
    "#     return averageRating_overyear['averageRating']\n",
    "\n",
    "year_groups = averageRating_overyear.groupby('startYear')\n",
    "\n",
    "fig, ax = plt.subplots()\n",
    "\n",
    "keys = []\n",
    "for i, (key, group) in enumerate(year_groups):\n",
    "    ax.scatter([i]*len(group), group['averageRating'])\n",
    "    keys.append(key)\n",
    "\n",
    "ax.set_xticklabels(keys)\n",
    "\n",
    "plt.show()"
   ]
  },
  {
   "cell_type": "code",
   "execution_count": 7,
   "metadata": {},
   "outputs": [
    {
     "name": "stderr",
     "output_type": "stream",
     "text": [
      "/opt/conda/lib/python3.7/site-packages/IPython/core/interactiveshell.py:3049: DtypeWarning: Columns (8) have mixed types. Specify dtype option on import or set low_memory=False.\n",
      "  interactivity=interactivity, compiler=compiler, result=result)\n"
     ]
    }
   ],
   "source": [
    "movies_crew_df = pd.read_csv(\"IMDb_datasets/movies_crew.csv\")"
   ]
  },
  {
   "cell_type": "code",
   "execution_count": 10,
   "metadata": {},
   "outputs": [
    {
     "data": {
      "text/html": [
       "<div>\n",
       "<style scoped>\n",
       "    .dataframe tbody tr th:only-of-type {\n",
       "        vertical-align: middle;\n",
       "    }\n",
       "\n",
       "    .dataframe tbody tr th {\n",
       "        vertical-align: top;\n",
       "    }\n",
       "\n",
       "    .dataframe thead th {\n",
       "        text-align: right;\n",
       "    }\n",
       "</style>\n",
       "<table border=\"1\" class=\"dataframe\">\n",
       "  <thead>\n",
       "    <tr style=\"text-align: right;\">\n",
       "      <th></th>\n",
       "      <th>Unnamed: 0</th>\n",
       "      <th>titleId</th>\n",
       "      <th>title_ordering</th>\n",
       "      <th>title</th>\n",
       "      <th>region</th>\n",
       "      <th>language</th>\n",
       "      <th>titleType</th>\n",
       "      <th>isAdult</th>\n",
       "      <th>startYear</th>\n",
       "      <th>endYear</th>\n",
       "      <th>runtimeMinutes</th>\n",
       "      <th>genres</th>\n",
       "      <th>averageRating</th>\n",
       "      <th>numVotes</th>\n",
       "      <th>directors</th>\n",
       "      <th>writers</th>\n",
       "    </tr>\n",
       "  </thead>\n",
       "  <tbody>\n",
       "    <tr>\n",
       "      <th>0</th>\n",
       "      <td>0</td>\n",
       "      <td>tt0004272</td>\n",
       "      <td>1</td>\n",
       "      <td>Lucille Love, la chica misteriosa</td>\n",
       "      <td>VE</td>\n",
       "      <td>\\N</td>\n",
       "      <td>movie</td>\n",
       "      <td>0</td>\n",
       "      <td>1914</td>\n",
       "      <td>\\N</td>\n",
       "      <td>300</td>\n",
       "      <td>Action</td>\n",
       "      <td>5.8</td>\n",
       "      <td>9</td>\n",
       "      <td>nm0285643</td>\n",
       "      <td>nm0192062,nm0285643</td>\n",
       "    </tr>\n",
       "    <tr>\n",
       "      <th>1</th>\n",
       "      <td>1</td>\n",
       "      <td>tt0004272</td>\n",
       "      <td>2</td>\n",
       "      <td>Lucille Love: The Girl of Mystery</td>\n",
       "      <td>US</td>\n",
       "      <td>\\N</td>\n",
       "      <td>movie</td>\n",
       "      <td>0</td>\n",
       "      <td>1914</td>\n",
       "      <td>\\N</td>\n",
       "      <td>300</td>\n",
       "      <td>Action</td>\n",
       "      <td>5.8</td>\n",
       "      <td>9</td>\n",
       "      <td>nm0285643</td>\n",
       "      <td>nm0192062,nm0285643</td>\n",
       "    </tr>\n",
       "    <tr>\n",
       "      <th>2</th>\n",
       "      <td>2</td>\n",
       "      <td>tt0004272</td>\n",
       "      <td>3</td>\n",
       "      <td>Lucille Love: The Girl of Mystery</td>\n",
       "      <td>\\N</td>\n",
       "      <td>\\N</td>\n",
       "      <td>movie</td>\n",
       "      <td>0</td>\n",
       "      <td>1914</td>\n",
       "      <td>\\N</td>\n",
       "      <td>300</td>\n",
       "      <td>Action</td>\n",
       "      <td>5.8</td>\n",
       "      <td>9</td>\n",
       "      <td>nm0285643</td>\n",
       "      <td>nm0192062,nm0285643</td>\n",
       "    </tr>\n",
       "    <tr>\n",
       "      <th>3</th>\n",
       "      <td>3</td>\n",
       "      <td>tt0004336</td>\n",
       "      <td>1</td>\n",
       "      <td>El misterio del millón de dólares</td>\n",
       "      <td>ES</td>\n",
       "      <td>\\N</td>\n",
       "      <td>movie</td>\n",
       "      <td>0</td>\n",
       "      <td>1914</td>\n",
       "      <td>\\N</td>\n",
       "      <td>\\N</td>\n",
       "      <td>Adventure,Mystery</td>\n",
       "      <td>5.5</td>\n",
       "      <td>21</td>\n",
       "      <td>nm0360617</td>\n",
       "      <td>nm0518840,nm0569805</td>\n",
       "    </tr>\n",
       "    <tr>\n",
       "      <th>4</th>\n",
       "      <td>4</td>\n",
       "      <td>tt0004336</td>\n",
       "      <td>2</td>\n",
       "      <td>The Million Dollar Mystery</td>\n",
       "      <td>\\N</td>\n",
       "      <td>\\N</td>\n",
       "      <td>movie</td>\n",
       "      <td>0</td>\n",
       "      <td>1914</td>\n",
       "      <td>\\N</td>\n",
       "      <td>\\N</td>\n",
       "      <td>Adventure,Mystery</td>\n",
       "      <td>5.5</td>\n",
       "      <td>21</td>\n",
       "      <td>nm0360617</td>\n",
       "      <td>nm0518840,nm0569805</td>\n",
       "    </tr>\n",
       "  </tbody>\n",
       "</table>\n",
       "</div>"
      ],
      "text/plain": [
       "   Unnamed: 0    titleId  title_ordering                              title  \\\n",
       "0           0  tt0004272               1  Lucille Love, la chica misteriosa   \n",
       "1           1  tt0004272               2  Lucille Love: The Girl of Mystery   \n",
       "2           2  tt0004272               3  Lucille Love: The Girl of Mystery   \n",
       "3           3  tt0004336               1  El misterio del millón de dólares   \n",
       "4           4  tt0004336               2         The Million Dollar Mystery   \n",
       "\n",
       "  region language titleType  isAdult startYear endYear runtimeMinutes  \\\n",
       "0     VE       \\N     movie        0      1914      \\N            300   \n",
       "1     US       \\N     movie        0      1914      \\N            300   \n",
       "2     \\N       \\N     movie        0      1914      \\N            300   \n",
       "3     ES       \\N     movie        0      1914      \\N             \\N   \n",
       "4     \\N       \\N     movie        0      1914      \\N             \\N   \n",
       "\n",
       "              genres  averageRating  numVotes  directors              writers  \n",
       "0             Action            5.8         9  nm0285643  nm0192062,nm0285643  \n",
       "1             Action            5.8         9  nm0285643  nm0192062,nm0285643  \n",
       "2             Action            5.8         9  nm0285643  nm0192062,nm0285643  \n",
       "3  Adventure,Mystery            5.5        21  nm0360617  nm0518840,nm0569805  \n",
       "4  Adventure,Mystery            5.5        21  nm0360617  nm0518840,nm0569805  "
      ]
     },
     "execution_count": 10,
     "metadata": {},
     "output_type": "execute_result"
    }
   ],
   "source": [
    "movies_crew_df.head()"
   ]
  },
  {
   "cell_type": "code",
   "execution_count": null,
   "metadata": {},
   "outputs": [],
   "source": [
    "casts_df = pd.read_csv(\"IMDb_datasets/1.csv\", sep='\\t')"
   ]
  },
  {
   "cell_type": "code",
   "execution_count": 1,
   "metadata": {},
   "outputs": [
    {
     "ename": "NameError",
     "evalue": "name 'casts_df' is not defined",
     "output_type": "error",
     "traceback": [
      "\u001b[0;31m---------------------------------------------------------------------------\u001b[0m",
      "\u001b[0;31mNameError\u001b[0m                                 Traceback (most recent call last)",
      "\u001b[0;32m<ipython-input-1-bd839a7e57af>\u001b[0m in \u001b[0;36m<module>\u001b[0;34m\u001b[0m\n\u001b[0;32m----> 1\u001b[0;31m \u001b[0mcasts_df\u001b[0m\u001b[0;34m.\u001b[0m\u001b[0mhead\u001b[0m\u001b[0;34m(\u001b[0m\u001b[0;34m)\u001b[0m\u001b[0;34m\u001b[0m\u001b[0;34m\u001b[0m\u001b[0m\n\u001b[0m",
      "\u001b[0;31mNameError\u001b[0m: name 'casts_df' is not defined"
     ]
    }
   ],
   "source": [
    "casts_df.head()"
   ]
  },
  {
   "cell_type": "code",
   "execution_count": null,
   "metadata": {},
   "outputs": [],
   "source": [
    "name_basics_path = 'IMDb_datasets/name.basics.tsv'\n",
    "title_principals_path = 'IMDb_datasets/title.principals.tsv'\n",
    "\n",
    "name_basics_df = pd.read_csv(name_basics_path, sep='\\t')\n",
    "title_principals_df = pd.read_csv(title_principals_path, sep='\\t')"
   ]
  },
  {
   "cell_type": "code",
   "execution_count": null,
   "metadata": {},
   "outputs": [],
   "source": []
  }
 ],
 "metadata": {
  "kernelspec": {
   "display_name": "Python 3",
   "language": "python",
   "name": "python3"
  },
  "language_info": {
   "codemirror_mode": {
    "name": "ipython",
    "version": 3
   },
   "file_extension": ".py",
   "mimetype": "text/x-python",
   "name": "python",
   "nbconvert_exporter": "python",
   "pygments_lexer": "ipython3",
   "version": "3.7.3"
  }
 },
 "nbformat": 4,
 "nbformat_minor": 2
}
