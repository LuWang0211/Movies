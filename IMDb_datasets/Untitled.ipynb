{
 "cells": [
  {
   "cell_type": "code",
   "execution_count": 4,
   "metadata": {},
   "outputs": [],
   "source": [
    "import pandas as pd"
   ]
  },
  {
   "cell_type": "code",
   "execution_count": 12,
   "metadata": {},
   "outputs": [
    {
     "name": "stderr",
     "output_type": "stream",
     "text": [
      "b'Skipping line 31008: expected 6 fields, saw 7\\n'\n",
      "b'Skipping line 155932: expected 6 fields, saw 7\\nSkipping line 207649: expected 6 fields, saw 7\\n'\n",
      "b'Skipping line 357850: expected 6 fields, saw 7\\n'\n",
      "b'Skipping line 428975: expected 6 fields, saw 7\\nSkipping line 483334: expected 6 fields, saw 7\\n'\n",
      "b'Skipping line 748783: expected 6 fields, saw 7\\n'\n",
      "b'Skipping line 856774: expected 6 fields, saw 7\\nSkipping line 904729: expected 6 fields, saw 7\\n'\n",
      "b'Skipping line 996691: expected 6 fields, saw 7\\n'\n",
      "b'Skipping line 1391559: expected 6 fields, saw 7\\n'\n",
      "b'Skipping line 1703773: expected 6 fields, saw 7\\n'\n",
      "b'Skipping line 1895803: expected 6 fields, saw 8\\n'\n",
      "b'Skipping line 2223800: expected 6 fields, saw 7\\n'\n",
      "b'Skipping line 2287894: expected 6 fields, saw 7\\n'\n",
      "b'Skipping line 2657623: expected 6 fields, saw 7\\n'\n",
      "b'Skipping line 2802362: expected 6 fields, saw 8\\n'\n",
      "b'Skipping line 3058485: expected 6 fields, saw 7\\nSkipping line 3115825: expected 6 fields, saw 8\\n'\n",
      "b'Skipping line 3207090: expected 6 fields, saw 7\\n'\n",
      "b'Skipping line 3550029: expected 6 fields, saw 7\\nSkipping line 3660141: expected 6 fields, saw 8\\n'\n",
      "b'Skipping line 3844126: expected 6 fields, saw 7\\n'\n",
      "b'Skipping line 4237675: expected 6 fields, saw 7\\n'\n",
      "b'Skipping line 4518887: expected 6 fields, saw 8\\n'\n",
      "b'Skipping line 4607231: expected 6 fields, saw 7\\n'\n",
      "b'Skipping line 5212670: expected 6 fields, saw 7\\n'\n",
      "b'Skipping line 5370750: expected 6 fields, saw 8\\n'\n",
      "b'Skipping line 5501711: expected 6 fields, saw 7\\n'\n",
      "b'Skipping line 6258108: expected 6 fields, saw 7\\nSkipping line 6273567: expected 6 fields, saw 7\\n'\n",
      "b'Skipping line 6496699: expected 6 fields, saw 8\\n'\n",
      "b'Skipping line 6955761: expected 6 fields, saw 7\\n'\n",
      "b'Skipping line 7103418: expected 6 fields, saw 7\\n'\n",
      "b'Skipping line 7264731: expected 6 fields, saw 7\\n'\n",
      "b'Skipping line 7739616: expected 6 fields, saw 7\\nSkipping line 7812989: expected 6 fields, saw 7\\n'\n",
      "b'Skipping line 8089260: expected 6 fields, saw 7\\n'\n",
      "b'Skipping line 8505852: expected 6 fields, saw 7\\n'\n",
      "b'Skipping line 8840995: expected 6 fields, saw 7\\n'\n",
      "b'Skipping line 9132877: expected 6 fields, saw 7\\n'\n"
     ]
    }
   ],
   "source": [
    "actors_name = pd.read_csv(\"name.basics.tsv\",error_bad_lines=False)"
   ]
  },
  {
   "cell_type": "code",
   "execution_count": 2,
   "metadata": {},
   "outputs": [
    {
     "name": "stdout",
     "output_type": "stream",
     "text": [
      "1.csv                        movie_year.csv    title.crew.tsv\r\n",
      "actor_age.csv                name.basics.tsv   title.episode.tsv\r\n",
      "age_rating.csv               name_t_temp.tsv   title.principals.tsv\r\n",
      "\u001b[0m\u001b[01;32maverageRating_overyear.csv\u001b[0m*  people_year.csv   title.ratings.tsv\r\n",
      "\u001b[01;34mcasts_local_csv\u001b[0m/             principals.csv    Untitled.ipynb\r\n",
      "movies_crew.csv              title.akas.tsv\r\n",
      "movies.csv                   title.basics.tsv\r\n"
     ]
    }
   ],
   "source": [
    "ls"
   ]
  },
  {
   "cell_type": "code",
   "execution_count": 10,
   "metadata": {},
   "outputs": [
    {
     "data": {
      "text/plain": [
       "(142145, 1)"
      ]
     },
     "execution_count": 10,
     "metadata": {},
     "output_type": "execute_result"
    }
   ],
   "source": [
    "actors_name.shape"
   ]
  },
  {
   "cell_type": "code",
   "execution_count": 14,
   "metadata": {},
   "outputs": [
    {
     "data": {
      "text/html": [
       "<div>\n",
       "<style scoped>\n",
       "    .dataframe tbody tr th:only-of-type {\n",
       "        vertical-align: middle;\n",
       "    }\n",
       "\n",
       "    .dataframe tbody tr th {\n",
       "        vertical-align: top;\n",
       "    }\n",
       "\n",
       "    .dataframe thead th {\n",
       "        text-align: right;\n",
       "    }\n",
       "</style>\n",
       "<table border=\"1\" class=\"dataframe\">\n",
       "  <thead>\n",
       "    <tr style=\"text-align: right;\">\n",
       "      <th></th>\n",
       "      <th></th>\n",
       "      <th></th>\n",
       "      <th></th>\n",
       "      <th></th>\n",
       "      <th>nconst\tprimaryName\tbirthYear\tdeathYear\tprimaryProfession\tknownForTitles</th>\n",
       "    </tr>\n",
       "  </thead>\n",
       "  <tbody>\n",
       "    <tr>\n",
       "      <th>nm0000001\\tFred Astaire\\t1899\\t1987\\tsoundtrack</th>\n",
       "      <th>actor</th>\n",
       "      <th>miscellaneous\\ttt0072308</th>\n",
       "      <th>tt0050419</th>\n",
       "      <th>tt0043044</th>\n",
       "      <td>tt0053137</td>\n",
       "    </tr>\n",
       "    <tr>\n",
       "      <th>nm0000002\\tLauren Bacall\\t1924\\t2014\\tactress</th>\n",
       "      <th>soundtrack\\ttt0071877</th>\n",
       "      <th>tt0117057</th>\n",
       "      <th>tt0037382</th>\n",
       "      <th>tt0038355</th>\n",
       "      <td>NaN</td>\n",
       "    </tr>\n",
       "    <tr>\n",
       "      <th>nm0000003\\tBrigitte Bardot\\t1934\\t\\N\\tactress</th>\n",
       "      <th>soundtrack</th>\n",
       "      <th>producer\\ttt0049189</th>\n",
       "      <th>tt0057345</th>\n",
       "      <th>tt0054452</th>\n",
       "      <td>tt0059956</td>\n",
       "    </tr>\n",
       "    <tr>\n",
       "      <th>nm0000004\\tJohn Belushi\\t1949\\t1982\\tactor</th>\n",
       "      <th>writer</th>\n",
       "      <th>soundtrack\\ttt0078723</th>\n",
       "      <th>tt0077975</th>\n",
       "      <th>tt0072562</th>\n",
       "      <td>tt0080455</td>\n",
       "    </tr>\n",
       "    <tr>\n",
       "      <th>nm0000005\\tIngmar Bergman\\t1918\\t2007\\twriter</th>\n",
       "      <th>director</th>\n",
       "      <th>actor\\ttt0050976</th>\n",
       "      <th>tt0083922</th>\n",
       "      <th>tt0069467</th>\n",
       "      <td>tt0050986</td>\n",
       "    </tr>\n",
       "  </tbody>\n",
       "</table>\n",
       "</div>"
      ],
      "text/plain": [
       "                                                                                                                   nconst\\tprimaryName\\tbirthYear\\tdeathYear\\tprimaryProfession\\tknownForTitles\n",
       "nm0000001\\tFred Astaire\\t1899\\t1987\\tsoundtrack actor                 miscellaneous\\ttt0072308 tt0050419 tt0043044                                          tt0053137                          \n",
       "nm0000002\\tLauren Bacall\\t1924\\t2014\\tactress   soundtrack\\ttt0071877 tt0117057                tt0037382 tt0038355                                                NaN                          \n",
       "nm0000003\\tBrigitte Bardot\\t1934\\t\\N\\tactress   soundtrack            producer\\ttt0049189      tt0057345 tt0054452                                          tt0059956                          \n",
       "nm0000004\\tJohn Belushi\\t1949\\t1982\\tactor      writer                soundtrack\\ttt0078723    tt0077975 tt0072562                                          tt0080455                          \n",
       "nm0000005\\tIngmar Bergman\\t1918\\t2007\\twriter   director              actor\\ttt0050976         tt0083922 tt0069467                                          tt0050986                          "
      ]
     },
     "execution_count": 14,
     "metadata": {},
     "output_type": "execute_result"
    }
   ],
   "source": [
    "actors_name.head()"
   ]
  },
  {
   "cell_type": "code",
   "execution_count": 15,
   "metadata": {},
   "outputs": [
    {
     "ename": "ModuleNotFoundError",
     "evalue": "No module named 'pyspark'",
     "output_type": "error",
     "traceback": [
      "\u001b[0;31m---------------------------------------------------------------------------\u001b[0m",
      "\u001b[0;31mModuleNotFoundError\u001b[0m                       Traceback (most recent call last)",
      "\u001b[0;32m<ipython-input-15-dc261350ca4b>\u001b[0m in \u001b[0;36m<module>\u001b[0;34m\u001b[0m\n\u001b[0;32m----> 1\u001b[0;31m \u001b[0;32mimport\u001b[0m \u001b[0mpyspark\u001b[0m \u001b[0;32mas\u001b[0m \u001b[0mps\u001b[0m\u001b[0;34m\u001b[0m\u001b[0;34m\u001b[0m\u001b[0m\n\u001b[0m\u001b[1;32m      2\u001b[0m \u001b[0;34m\u001b[0m\u001b[0m\n\u001b[1;32m      3\u001b[0m spark = (ps.sql.SparkSession\n\u001b[1;32m      4\u001b[0m         \u001b[0;34m.\u001b[0m\u001b[0mbuilder\u001b[0m\u001b[0;34m\u001b[0m\u001b[0;34m\u001b[0m\u001b[0m\n\u001b[1;32m      5\u001b[0m         \u001b[0;34m.\u001b[0m\u001b[0mmaster\u001b[0m\u001b[0;34m(\u001b[0m\u001b[0;34m'local[4]'\u001b[0m\u001b[0;34m)\u001b[0m\u001b[0;34m\u001b[0m\u001b[0;34m\u001b[0m\u001b[0m\n",
      "\u001b[0;31mModuleNotFoundError\u001b[0m: No module named 'pyspark'"
     ]
    }
   ],
   "source": [
    "import pyspark as ps\n",
    "\n",
    "spark = (ps.sql.SparkSession\n",
    "        .builder\n",
    "        .master('local[4]')\n",
    "        .appName('lecture')\n",
    "        .getOrCreate()\n",
    "    )\n",
    "\n",
    "sc = spark.sparkContext\n",
    "\n",
    "def transform_to_df(path):\n",
    "    return spark.read.csv(path,\n",
    "                         header=True,       \n",
    "                         quote='\"',        \n",
    "                         sep=\"\\t\",          \n",
    "                         inferSchema=True) "
   ]
  },
  {
   "cell_type": "code",
   "execution_count": null,
   "metadata": {},
   "outputs": [],
   "source": []
  },
  {
   "cell_type": "code",
   "execution_count": null,
   "metadata": {},
   "outputs": [],
   "source": [
    "average_rating_over_year= transform_to_df(\"averageRating_overyear.csv\", \",\")"
   ]
  }
 ],
 "metadata": {
  "kernelspec": {
   "display_name": "Python 3",
   "language": "python",
   "name": "python3"
  },
  "language_info": {
   "codemirror_mode": {
    "name": "ipython",
    "version": 3
   },
   "file_extension": ".py",
   "mimetype": "text/x-python",
   "name": "python",
   "nbconvert_exporter": "python",
   "pygments_lexer": "ipython3",
   "version": "3.5.2"
  }
 },
 "nbformat": 4,
 "nbformat_minor": 2
}
