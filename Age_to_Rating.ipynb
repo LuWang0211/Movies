{
 "cells": [
  {
   "cell_type": "code",
   "execution_count": 1,
   "metadata": {},
   "outputs": [],
   "source": [
    "%matplotlib inline\n",
    "\n",
    "import numpy as np\n",
    "import pandas as pd\n",
    "import matplotlib.pyplot as plt\n",
    "\n",
    "plt.style.use('ggplot')"
   ]
  },
  {
   "cell_type": "code",
   "execution_count": 2,
   "metadata": {},
   "outputs": [
    {
     "ename": "ModuleNotFoundError",
     "evalue": "No module named 'pyspark'",
     "output_type": "error",
     "traceback": [
      "\u001b[0;31m---------------------------------------------------------------------------\u001b[0m",
      "\u001b[0;31mModuleNotFoundError\u001b[0m                       Traceback (most recent call last)",
      "\u001b[0;32m<ipython-input-2-bfb278bb19f7>\u001b[0m in \u001b[0;36m<module>\u001b[0;34m\u001b[0m\n\u001b[0;32m----> 1\u001b[0;31m \u001b[0;32mimport\u001b[0m \u001b[0mpyspark\u001b[0m\u001b[0;34m\u001b[0m\u001b[0;34m\u001b[0m\u001b[0m\n\u001b[0m\u001b[1;32m      2\u001b[0m \u001b[0msc\u001b[0m \u001b[0;34m=\u001b[0m \u001b[0mpyspark\u001b[0m\u001b[0;34m.\u001b[0m\u001b[0mSparkContext\u001b[0m\u001b[0;34m(\u001b[0m\u001b[0mappName\u001b[0m\u001b[0;34m=\u001b[0m\u001b[0;34m\"myAppName\"\u001b[0m\u001b[0;34m)\u001b[0m\u001b[0;34m\u001b[0m\u001b[0;34m\u001b[0m\u001b[0m\n\u001b[1;32m      3\u001b[0m spark = (pyspark.sql.SparkSession\n\u001b[1;32m      4\u001b[0m          \u001b[0;34m.\u001b[0m\u001b[0mbuilder\u001b[0m\u001b[0;34m\u001b[0m\u001b[0;34m\u001b[0m\u001b[0m\n\u001b[1;32m      5\u001b[0m          \u001b[0;34m.\u001b[0m\u001b[0mappName\u001b[0m\u001b[0;34m(\u001b[0m\u001b[0;34m'myAppName'\u001b[0m\u001b[0;34m)\u001b[0m\u001b[0;34m\u001b[0m\u001b[0;34m\u001b[0m\u001b[0m\n",
      "\u001b[0;31mModuleNotFoundError\u001b[0m: No module named 'pyspark'"
     ]
    }
   ],
   "source": [
    "import pyspark\n",
    "sc = pyspark.SparkContext(appName=\"myAppName\")\n",
    "spark = (pyspark.sql.SparkSession\n",
    "         .builder        \n",
    "         .appName('myAppName')\n",
    "         .getOrCreate()\n",
    "        )"
   ]
  },
  {
   "cell_type": "code",
   "execution_count": 3,
   "metadata": {},
   "outputs": [],
   "source": [
    "def transform_to_df(path, sep_input=\"\\t\"):\n",
    "    return spark.read.csv(path,\n",
    "                         header=True,       # use headers or not\n",
    "                         quote='\"',         # char for quotes\n",
    "                         sep=sep_input,           # char for separation\n",
    "                         inferSchema=True)  # do we infer schema or not ?"
   ]
  },
  {
   "cell_type": "code",
   "execution_count": 4,
   "metadata": {},
   "outputs": [],
   "source": [
    "average_rating_over_year= transform_to_df(\"averageRating_overyear.csv\", \",\")"
   ]
  },
  {
   "cell_type": "code",
   "execution_count": 5,
   "metadata": {},
   "outputs": [
    {
     "name": "stdout",
     "output_type": "stream",
     "text": [
      "root\n",
      " |-- _c0: integer (nullable = true)\n",
      " |-- titleId: string (nullable = true)\n",
      " |-- startYear: string (nullable = true)\n",
      " |-- averageRating: double (nullable = true)\n",
      "\n"
     ]
    }
   ],
   "source": [
    "average_rating_over_year.printSchema()"
   ]
  },
  {
   "cell_type": "code",
   "execution_count": 18,
   "metadata": {},
   "outputs": [],
   "source": [
    "movies = transform_to_df(\"IMDb_datasets/movies.csv\", \",\")"
   ]
  },
  {
   "cell_type": "code",
   "execution_count": 19,
   "metadata": {},
   "outputs": [
    {
     "name": "stdout",
     "output_type": "stream",
     "text": [
      "root\n",
      " |-- _c0: integer (nullable = true)\n",
      " |-- titleId: string (nullable = true)\n",
      " |-- title_ordering: integer (nullable = true)\n",
      " |-- title: string (nullable = true)\n",
      " |-- region: string (nullable = true)\n",
      " |-- language: string (nullable = true)\n",
      " |-- types: string (nullable = true)\n",
      " |-- attributes: string (nullable = true)\n",
      " |-- isOriginalTitle: string (nullable = true)\n",
      " |-- titleType: string (nullable = true)\n",
      " |-- primaryTitle: string (nullable = true)\n",
      " |-- originalTitle: string (nullable = true)\n",
      " |-- isAdult: integer (nullable = true)\n",
      " |-- startYear: string (nullable = true)\n",
      " |-- endYear: string (nullable = true)\n",
      " |-- runtimeMinutes: string (nullable = true)\n",
      " |-- genres: string (nullable = true)\n",
      " |-- averageRating: double (nullable = true)\n",
      " |-- numVotes: integer (nullable = true)\n",
      "\n"
     ]
    }
   ],
   "source": [
    "movies.printSchema()"
   ]
  },
  {
   "cell_type": "code",
   "execution_count": 20,
   "metadata": {},
   "outputs": [],
   "source": [
    "movies.registerTempTable(\"movies\")"
   ]
  },
  {
   "cell_type": "code",
   "execution_count": 7,
   "metadata": {},
   "outputs": [],
   "source": [
    "people = transform_to_df(\"people_year.csv\", \"\\t\")"
   ]
  },
  {
   "cell_type": "code",
   "execution_count": 8,
   "metadata": {},
   "outputs": [
    {
     "name": "stdout",
     "output_type": "stream",
     "text": [
      "root\n",
      " |-- _c0: integer (nullable = true)\n",
      " |-- nconst: string (nullable = true)\n",
      " |-- birthYear: string (nullable = true)\n",
      " |-- primaryProfession: string (nullable = true)\n",
      "\n"
     ]
    }
   ],
   "source": [
    "people.printSchema()"
   ]
  },
  {
   "cell_type": "code",
   "execution_count": 21,
   "metadata": {},
   "outputs": [],
   "source": [
    "people.registerTempTable(\"people\")"
   ]
  },
  {
   "cell_type": "code",
   "execution_count": 11,
   "metadata": {},
   "outputs": [],
   "source": [
    "principals = transform_to_df(\"principals.csv\", \",\")"
   ]
  },
  {
   "cell_type": "code",
   "execution_count": 12,
   "metadata": {},
   "outputs": [
    {
     "name": "stdout",
     "output_type": "stream",
     "text": [
      "root\n",
      " |-- tconst: string (nullable = true)\n",
      " |-- nconst: string (nullable = true)\n",
      "\n"
     ]
    }
   ],
   "source": [
    "principals.printSchema()"
   ]
  },
  {
   "cell_type": "code",
   "execution_count": 27,
   "metadata": {},
   "outputs": [
    {
     "name": "stdout",
     "output_type": "stream",
     "text": [
      "+---------+---------+\n",
      "|   tconst|   nconst|\n",
      "+---------+---------+\n",
      "|tt1479805|nm3166689|\n",
      "|tt1479992|nm0199039|\n",
      "|tt1481551|nm3557069|\n",
      "|tt1482567|nm0521786|\n",
      "|tt1483010|nm1795989|\n",
      "+---------+---------+\n",
      "only showing top 5 rows\n",
      "\n"
     ]
    }
   ],
   "source": [
    "principals.show(5)"
   ]
  },
  {
   "cell_type": "code",
   "execution_count": 33,
   "metadata": {},
   "outputs": [],
   "source": [
    "principals.registerTempTable(\"principals_t\")"
   ]
  },
  {
   "cell_type": "code",
   "execution_count": 44,
   "metadata": {},
   "outputs": [],
   "source": [
    "temp_table = spark.sql(\n",
    "\"\"\"\n",
    "SELECT DISTINCT nconst as main_nconst, birthYear,primaryProfession FROM people WHERE (primaryProfession LIKE '%actor%') or (primaryProfession LIKE '%actress%')\n",
    "\"\"\"\n",
    ")"
   ]
  },
  {
   "cell_type": "code",
   "execution_count": 45,
   "metadata": {},
   "outputs": [],
   "source": [
    "temp_table.registerTempTable(\"temp_table_1\")"
   ]
  },
  {
   "cell_type": "code",
   "execution_count": 46,
   "metadata": {},
   "outputs": [],
   "source": [
    "pel_pri = spark.sql(\n",
    "\"\"\"\n",
    "SELECT * FROM temp_table_1 LEFT JOIN principals_t ON temp_table_1.main_nconst = principals_t.nconst\n",
    "\"\"\"\n",
    ")"
   ]
  },
  {
   "cell_type": "code",
   "execution_count": 47,
   "metadata": {},
   "outputs": [
    {
     "name": "stdout",
     "output_type": "stream",
     "text": [
      "root\n",
      " |-- main_nconst: string (nullable = true)\n",
      " |-- birthYear: string (nullable = true)\n",
      " |-- primaryProfession: string (nullable = true)\n",
      " |-- tconst: string (nullable = true)\n",
      " |-- nconst: string (nullable = true)\n",
      "\n"
     ]
    }
   ],
   "source": [
    "pel_pri.printSchema()"
   ]
  },
  {
   "cell_type": "code",
   "execution_count": 48,
   "metadata": {},
   "outputs": [],
   "source": [
    "pel_pri.registerTempTable(\"pel_pri_t\")"
   ]
  },
  {
   "cell_type": "code",
   "execution_count": 54,
   "metadata": {},
   "outputs": [],
   "source": [
    "pel_pri_rating = spark.sql(\n",
    "\"\"\"\n",
    "SELECT * FROM pel_pri_t LEFT JOIN movies ON movies.titleId = pel_pri_t.tconst\n",
    "\"\"\"\n",
    ")"
   ]
  },
  {
   "cell_type": "code",
   "execution_count": 55,
   "metadata": {},
   "outputs": [
    {
     "name": "stdout",
     "output_type": "stream",
     "text": [
      "+-----------+---------+--------------------+---------+---------+----+-------+--------------+-----+------+--------+-----+----------+---------------+---------+------------+-------------+-------+---------+-------+--------------+------+-------------+--------+\n",
      "|main_nconst|birthYear|   primaryProfession|   tconst|   nconst| _c0|titleId|title_ordering|title|region|language|types|attributes|isOriginalTitle|titleType|primaryTitle|originalTitle|isAdult|startYear|endYear|runtimeMinutes|genres|averageRating|numVotes|\n",
      "+-----------+---------+--------------------+---------+---------+----+-------+--------------+-----+------+--------+-----+----------+---------------+---------+------------+-------------+-------+---------+-------+--------------+------+-------------+--------+\n",
      "|  nm0001908|     1880|director,actor,pr...|tt0001170|nm0001908|null|   null|          null| null|  null|    null| null|      null|           null|     null|        null|         null|   null|     null|   null|          null|  null|         null|    null|\n",
      "|  nm0492757|     1886|             actress|tt0001664|nm0492757|null|   null|          null| null|  null|    null| null|      null|           null|     null|        null|         null|   null|     null|   null|          null|  null|         null|    null|\n",
      "+-----------+---------+--------------------+---------+---------+----+-------+--------------+-----+------+--------+-----+----------+---------------+---------+------------+-------------+-------+---------+-------+--------------+------+-------------+--------+\n",
      "only showing top 2 rows\n",
      "\n"
     ]
    }
   ],
   "source": [
    "pel_pri_rating.show(2)"
   ]
  },
  {
   "cell_type": "code",
   "execution_count": 65,
   "metadata": {},
   "outputs": [],
   "source": [
    "pel_pri_rating = spark.sql(\n",
    "\"\"\"\n",
    "SELECT main_nconst, birthYear, primaryProfession, tconst, startYear, averageRating FROM pel_pri_t LEFT JOIN movies ON movies.titleId = pel_pri_t.tconst\n",
    "\"\"\"\n",
    ")"
   ]
  },
  {
   "cell_type": "code",
   "execution_count": 58,
   "metadata": {},
   "outputs": [
    {
     "name": "stdout",
     "output_type": "stream",
     "text": [
      "root\n",
      " |-- main_nconst: string (nullable = true)\n",
      " |-- birthYear: string (nullable = true)\n",
      " |-- primaryProfession: string (nullable = true)\n",
      " |-- tconst: string (nullable = true)\n",
      " |-- startYear: string (nullable = true)\n",
      " |-- averageRating: double (nullable = true)\n",
      "\n"
     ]
    }
   ],
   "source": [
    "pel_pri_rating.printSchema()"
   ]
  },
  {
   "cell_type": "code",
   "execution_count": 66,
   "metadata": {},
   "outputs": [],
   "source": [
    "pel_pri_rating.registerTempTable(\"pel_pri_rating_t\")"
   ]
  },
  {
   "cell_type": "code",
   "execution_count": 59,
   "metadata": {},
   "outputs": [
    {
     "name": "stdout",
     "output_type": "stream",
     "text": [
      "+-----------+---------+--------------------+---------+---------+-------------+\n",
      "|main_nconst|birthYear|   primaryProfession|   tconst|startYear|averageRating|\n",
      "+-----------+---------+--------------------+---------+---------+-------------+\n",
      "|  nm0001908|     1880|director,actor,pr...|tt0001170|     null|         null|\n",
      "|  nm0492757|     1886|             actress|tt0001664|     null|         null|\n",
      "+-----------+---------+--------------------+---------+---------+-------------+\n",
      "only showing top 2 rows\n",
      "\n"
     ]
    }
   ],
   "source": [
    "pel_pri_rating.show(2)"
   ]
  },
  {
   "cell_type": "code",
   "execution_count": 81,
   "metadata": {},
   "outputs": [],
   "source": [
    "pel_pri_rating = spark.sql(\n",
    "\"\"\"\n",
    "SELECT main_nconst, primaryProfession, startYear, birthYear, averageRating FROM pel_pri_rating_t WHERE startYear IS NOT NUll\n",
    "\n",
    "\"\"\"\n",
    ")"
   ]
  },
  {
   "cell_type": "code",
   "execution_count": 82,
   "metadata": {},
   "outputs": [],
   "source": [
    "pd = pel_pri_rating.toPandas()"
   ]
  },
  {
   "cell_type": "code",
   "execution_count": 83,
   "metadata": {},
   "outputs": [
    {
     "data": {
      "text/html": [
       "<div>\n",
       "<style scoped>\n",
       "    .dataframe tbody tr th:only-of-type {\n",
       "        vertical-align: middle;\n",
       "    }\n",
       "\n",
       "    .dataframe tbody tr th {\n",
       "        vertical-align: top;\n",
       "    }\n",
       "\n",
       "    .dataframe thead th {\n",
       "        text-align: right;\n",
       "    }\n",
       "</style>\n",
       "<table border=\"1\" class=\"dataframe\">\n",
       "  <thead>\n",
       "    <tr style=\"text-align: right;\">\n",
       "      <th></th>\n",
       "      <th>main_nconst</th>\n",
       "      <th>primaryProfession</th>\n",
       "      <th>startYear</th>\n",
       "      <th>birthYear</th>\n",
       "      <th>averageRating</th>\n",
       "    </tr>\n",
       "  </thead>\n",
       "  <tbody>\n",
       "    <tr>\n",
       "      <th>0</th>\n",
       "      <td>nm0192062</td>\n",
       "      <td>actress,writer,director</td>\n",
       "      <td>1914</td>\n",
       "      <td>1893</td>\n",
       "      <td>5.8</td>\n",
       "    </tr>\n",
       "    <tr>\n",
       "      <th>1</th>\n",
       "      <td>nm0192062</td>\n",
       "      <td>actress,writer,director</td>\n",
       "      <td>1914</td>\n",
       "      <td>1893</td>\n",
       "      <td>5.8</td>\n",
       "    </tr>\n",
       "    <tr>\n",
       "      <th>2</th>\n",
       "      <td>nm0192062</td>\n",
       "      <td>actress,writer,director</td>\n",
       "      <td>1914</td>\n",
       "      <td>1893</td>\n",
       "      <td>5.8</td>\n",
       "    </tr>\n",
       "    <tr>\n",
       "      <th>3</th>\n",
       "      <td>nm0478359</td>\n",
       "      <td>actress</td>\n",
       "      <td>1914</td>\n",
       "      <td>1888</td>\n",
       "      <td>5.5</td>\n",
       "    </tr>\n",
       "    <tr>\n",
       "      <th>4</th>\n",
       "      <td>nm0478359</td>\n",
       "      <td>actress</td>\n",
       "      <td>1914</td>\n",
       "      <td>1888</td>\n",
       "      <td>5.5</td>\n",
       "    </tr>\n",
       "  </tbody>\n",
       "</table>\n",
       "</div>"
      ],
      "text/plain": [
       "  main_nconst        primaryProfession startYear birthYear  averageRating\n",
       "0   nm0192062  actress,writer,director      1914      1893            5.8\n",
       "1   nm0192062  actress,writer,director      1914      1893            5.8\n",
       "2   nm0192062  actress,writer,director      1914      1893            5.8\n",
       "3   nm0478359                  actress      1914      1888            5.5\n",
       "4   nm0478359                  actress      1914      1888            5.5"
      ]
     },
     "execution_count": 83,
     "metadata": {},
     "output_type": "execute_result"
    }
   ],
   "source": [
    "pd.head()"
   ]
  },
  {
   "cell_type": "code",
   "execution_count": 86,
   "metadata": {},
   "outputs": [],
   "source": [
    "pd_1 = pd.drop_duplicates()"
   ]
  },
  {
   "cell_type": "code",
   "execution_count": 87,
   "metadata": {},
   "outputs": [
    {
     "data": {
      "text/html": [
       "<div>\n",
       "<style scoped>\n",
       "    .dataframe tbody tr th:only-of-type {\n",
       "        vertical-align: middle;\n",
       "    }\n",
       "\n",
       "    .dataframe tbody tr th {\n",
       "        vertical-align: top;\n",
       "    }\n",
       "\n",
       "    .dataframe thead th {\n",
       "        text-align: right;\n",
       "    }\n",
       "</style>\n",
       "<table border=\"1\" class=\"dataframe\">\n",
       "  <thead>\n",
       "    <tr style=\"text-align: right;\">\n",
       "      <th></th>\n",
       "      <th>main_nconst</th>\n",
       "      <th>primaryProfession</th>\n",
       "      <th>startYear</th>\n",
       "      <th>birthYear</th>\n",
       "      <th>averageRating</th>\n",
       "    </tr>\n",
       "  </thead>\n",
       "  <tbody>\n",
       "    <tr>\n",
       "      <th>0</th>\n",
       "      <td>nm0192062</td>\n",
       "      <td>actress,writer,director</td>\n",
       "      <td>1914</td>\n",
       "      <td>1893</td>\n",
       "      <td>5.8</td>\n",
       "    </tr>\n",
       "    <tr>\n",
       "      <th>3</th>\n",
       "      <td>nm0478359</td>\n",
       "      <td>actress</td>\n",
       "      <td>1914</td>\n",
       "      <td>1888</td>\n",
       "      <td>5.5</td>\n",
       "    </tr>\n",
       "    <tr>\n",
       "      <th>6</th>\n",
       "      <td>nm0394389</td>\n",
       "      <td>actor</td>\n",
       "      <td>1915</td>\n",
       "      <td>1858</td>\n",
       "      <td>5.7</td>\n",
       "    </tr>\n",
       "    <tr>\n",
       "      <th>7</th>\n",
       "      <td>nm0071992</td>\n",
       "      <td>actor,writer,miscellaneous</td>\n",
       "      <td>1916</td>\n",
       "      <td>1870</td>\n",
       "      <td>6.2</td>\n",
       "    </tr>\n",
       "    <tr>\n",
       "      <th>8</th>\n",
       "      <td>nm0366586</td>\n",
       "      <td>actor,director,producer</td>\n",
       "      <td>1916</td>\n",
       "      <td>1864</td>\n",
       "      <td>5.3</td>\n",
       "    </tr>\n",
       "  </tbody>\n",
       "</table>\n",
       "</div>"
      ],
      "text/plain": [
       "  main_nconst           primaryProfession startYear birthYear  averageRating\n",
       "0   nm0192062     actress,writer,director      1914      1893            5.8\n",
       "3   nm0478359                     actress      1914      1888            5.5\n",
       "6   nm0394389                       actor      1915      1858            5.7\n",
       "7   nm0071992  actor,writer,miscellaneous      1916      1870            6.2\n",
       "8   nm0366586     actor,director,producer      1916      1864            5.3"
      ]
     },
     "execution_count": 87,
     "metadata": {},
     "output_type": "execute_result"
    }
   ],
   "source": [
    "pd_1.head()"
   ]
  },
  {
   "cell_type": "code",
   "execution_count": 90,
   "metadata": {},
   "outputs": [],
   "source": [
    "pd_1 = pd_1[pd_1.startYear != \"\\\\N\"]"
   ]
  },
  {
   "cell_type": "code",
   "execution_count": 92,
   "metadata": {},
   "outputs": [],
   "source": [
    "pd_1 = pd_1[pd_1.birthYear != \"\\\\N\"]"
   ]
  },
  {
   "cell_type": "code",
   "execution_count": 93,
   "metadata": {},
   "outputs": [],
   "source": [
    "pd_1[\"age\"] = pd_1[\"startYear\"].astype(\"int64\") - pd_1['birthYear'].astype(\"int64\")"
   ]
  },
  {
   "cell_type": "code",
   "execution_count": 94,
   "metadata": {},
   "outputs": [],
   "source": [
    "pd_2 = pd_1.drop_duplicates()"
   ]
  },
  {
   "cell_type": "code",
   "execution_count": 88,
   "metadata": {},
   "outputs": [
    {
     "data": {
      "text/plain": [
       "979200"
      ]
     },
     "execution_count": 88,
     "metadata": {},
     "output_type": "execute_result"
    }
   ],
   "source": [
    "pd_1.size"
   ]
  },
  {
   "cell_type": "code",
   "execution_count": 95,
   "metadata": {},
   "outputs": [
    {
     "data": {
      "text/plain": [
       "840204"
      ]
     },
     "execution_count": 95,
     "metadata": {},
     "output_type": "execute_result"
    }
   ],
   "source": [
    "pd_2.size"
   ]
  },
  {
   "cell_type": "code",
   "execution_count": 97,
   "metadata": {},
   "outputs": [
    {
     "data": {
      "text/plain": [
       "'/home/jovyan/work/Movies'"
      ]
     },
     "execution_count": 97,
     "metadata": {},
     "output_type": "execute_result"
    }
   ],
   "source": [
    "pwd"
   ]
  },
  {
   "cell_type": "code",
   "execution_count": 98,
   "metadata": {},
   "outputs": [],
   "source": [
    "pd_2.to_csv(\"IMDb_datasets/age_rating.csv\", sep=\"\\t\")"
   ]
  },
  {
   "cell_type": "code",
   "execution_count": 102,
   "metadata": {},
   "outputs": [],
   "source": [
    "age_rating = pd.read_csv(\"IMDb_datasets/age_rating.csv\", sep=\"\\t\")"
   ]
  },
  {
   "cell_type": "code",
   "execution_count": 104,
   "metadata": {},
   "outputs": [
    {
     "data": {
      "text/html": [
       "<div>\n",
       "<style scoped>\n",
       "    .dataframe tbody tr th:only-of-type {\n",
       "        vertical-align: middle;\n",
       "    }\n",
       "\n",
       "    .dataframe tbody tr th {\n",
       "        vertical-align: top;\n",
       "    }\n",
       "\n",
       "    .dataframe thead th {\n",
       "        text-align: right;\n",
       "    }\n",
       "</style>\n",
       "<table border=\"1\" class=\"dataframe\">\n",
       "  <thead>\n",
       "    <tr style=\"text-align: right;\">\n",
       "      <th></th>\n",
       "      <th>Unnamed: 0</th>\n",
       "      <th>main_nconst</th>\n",
       "      <th>primaryProfession</th>\n",
       "      <th>startYear</th>\n",
       "      <th>birthYear</th>\n",
       "      <th>averageRating</th>\n",
       "      <th>age</th>\n",
       "    </tr>\n",
       "  </thead>\n",
       "  <tbody>\n",
       "    <tr>\n",
       "      <th>0</th>\n",
       "      <td>0</td>\n",
       "      <td>nm0192062</td>\n",
       "      <td>actress,writer,director</td>\n",
       "      <td>1914</td>\n",
       "      <td>1893</td>\n",
       "      <td>5.8</td>\n",
       "      <td>21</td>\n",
       "    </tr>\n",
       "    <tr>\n",
       "      <th>1</th>\n",
       "      <td>3</td>\n",
       "      <td>nm0478359</td>\n",
       "      <td>actress</td>\n",
       "      <td>1914</td>\n",
       "      <td>1888</td>\n",
       "      <td>5.5</td>\n",
       "      <td>26</td>\n",
       "    </tr>\n",
       "    <tr>\n",
       "      <th>2</th>\n",
       "      <td>6</td>\n",
       "      <td>nm0394389</td>\n",
       "      <td>actor</td>\n",
       "      <td>1915</td>\n",
       "      <td>1858</td>\n",
       "      <td>5.7</td>\n",
       "      <td>57</td>\n",
       "    </tr>\n",
       "    <tr>\n",
       "      <th>3</th>\n",
       "      <td>7</td>\n",
       "      <td>nm0071992</td>\n",
       "      <td>actor,writer,miscellaneous</td>\n",
       "      <td>1916</td>\n",
       "      <td>1870</td>\n",
       "      <td>6.2</td>\n",
       "      <td>46</td>\n",
       "    </tr>\n",
       "    <tr>\n",
       "      <th>4</th>\n",
       "      <td>8</td>\n",
       "      <td>nm0366586</td>\n",
       "      <td>actor,director,producer</td>\n",
       "      <td>1916</td>\n",
       "      <td>1864</td>\n",
       "      <td>5.3</td>\n",
       "      <td>52</td>\n",
       "    </tr>\n",
       "  </tbody>\n",
       "</table>\n",
       "</div>"
      ],
      "text/plain": [
       "   Unnamed: 0 main_nconst           primaryProfession  startYear  birthYear  \\\n",
       "0           0   nm0192062     actress,writer,director       1914       1893   \n",
       "1           3   nm0478359                     actress       1914       1888   \n",
       "2           6   nm0394389                       actor       1915       1858   \n",
       "3           7   nm0071992  actor,writer,miscellaneous       1916       1870   \n",
       "4           8   nm0366586     actor,director,producer       1916       1864   \n",
       "\n",
       "   averageRating  age  \n",
       "0            5.8   21  \n",
       "1            5.5   26  \n",
       "2            5.7   57  \n",
       "3            6.2   46  \n",
       "4            5.3   52  "
      ]
     },
     "execution_count": 104,
     "metadata": {},
     "output_type": "execute_result"
    }
   ],
   "source": [
    "age_rating.head()"
   ]
  },
  {
   "cell_type": "code",
   "execution_count": 105,
   "metadata": {},
   "outputs": [],
   "source": [
    "age_rating = age_rating.drop(\"Unnamed: 0\", axis=1)"
   ]
  },
  {
   "cell_type": "code",
   "execution_count": 107,
   "metadata": {},
   "outputs": [
    {
     "data": {
      "text/plain": [
       "840204"
      ]
     },
     "execution_count": 107,
     "metadata": {},
     "output_type": "execute_result"
    }
   ],
   "source": [
    "age_rating.size"
   ]
  },
  {
   "cell_type": "code",
   "execution_count": 108,
   "metadata": {},
   "outputs": [
    {
     "data": {
      "text/plain": [
       "574716"
      ]
     },
     "execution_count": 108,
     "metadata": {},
     "output_type": "execute_result"
    }
   ],
   "source": [
    "actors = age_rating[age_rating[\"primaryProfession\"].apply(lambda x: 'actor' in x )]\n",
    "actors.size"
   ]
  },
  {
   "cell_type": "code",
   "execution_count": 118,
   "metadata": {},
   "outputs": [],
   "source": [
    "actors_dropped_df = actors.drop(['main_nconst', 'primaryProfession', 'birthYear','startYear' ], axis=1)"
   ]
  },
  {
   "cell_type": "code",
   "execution_count": 128,
   "metadata": {},
   "outputs": [],
   "source": [
    "actors_age_df1 = actors_dropped_df.sort_values(by=['age'])"
   ]
  },
  {
   "cell_type": "code",
   "execution_count": 141,
   "metadata": {},
   "outputs": [],
   "source": [
    "actors_age_df2 = actors_age_df1[(actors_age_df1['age']>15)]"
   ]
  },
  {
   "cell_type": "code",
   "execution_count": 144,
   "metadata": {},
   "outputs": [],
   "source": [
    "actors_age_df3 = actors_age_df2[(actors_age_df2['age']<100)]"
   ]
  },
  {
   "cell_type": "code",
   "execution_count": 145,
   "metadata": {},
   "outputs": [],
   "source": [
    "actors_age_df = actors_age_df3.groupby('age')"
   ]
  },
  {
   "cell_type": "code",
   "execution_count": 110,
   "metadata": {},
   "outputs": [
    {
     "data": {
      "text/plain": [
       "265488"
      ]
     },
     "execution_count": 110,
     "metadata": {},
     "output_type": "execute_result"
    }
   ],
   "source": [
    "actresses = age_rating[age_rating[\"primaryProfession\"].apply(lambda x: 'actress' in x )]\n",
    "actresses.size"
   ]
  },
  {
   "cell_type": "code",
   "execution_count": 147,
   "metadata": {},
   "outputs": [],
   "source": [
    "actresses_dropped_df = actresses.drop(['main_nconst', 'primaryProfession', 'birthYear','startYear' ], axis=1)\n",
    "actresses_age_df1 = actresses_dropped_df.sort_values(by=['age'])\n",
    "actresses_age_df2 = actresses_age_df1[(actresses_age_df1['age']>15)]\n",
    "actresses_age_df3 = actresses_age_df2[(actresses_age_df2['age']<100)]\n",
    "actresses_age_df = actresses_age_df3.groupby('age')"
   ]
  },
  {
   "cell_type": "code",
   "execution_count": 162,
   "metadata": {},
   "outputs": [],
   "source": [
    "actors_age_df_draw = actors_age_df.apply(lambda x: x.sample(frac=0.3))\n",
    "actresses_age_df_draw = actresses_age_df.apply(lambda x: x.sample(frac=0.3))"
   ]
  },
  {
   "cell_type": "code",
   "execution_count": 159,
   "metadata": {},
   "outputs": [
    {
     "data": {
      "text/plain": [
       "56754"
      ]
     },
     "execution_count": 159,
     "metadata": {},
     "output_type": "execute_result"
    }
   ],
   "source": [
    "actors_age_df_draw.size"
   ]
  },
  {
   "cell_type": "code",
   "execution_count": 196,
   "metadata": {},
   "outputs": [
    {
     "data": {
      "text/plain": [
       "<matplotlib.axes._subplots.AxesSubplot at 0x7f11607810f0>"
      ]
     },
     "execution_count": 196,
     "metadata": {},
     "output_type": "execute_result"
    },
    {
     "data": {
      "image/png": "[encoded data removed]",
      "text/plain": [
       "<Figure size 1080x576 with 1 Axes>"
      ]
     },
     "metadata": {},
     "output_type": "display_data"
    }
   ],
   "source": [
    "fig, ax = plt.subplots(figsize=(15, 8))\n",
    "ax.set_title(\"Age Mapping Movies_Rating\")\n",
    "ax.set_ylabel(\"age\")\n",
    "ax.set_xlabel(\"movies_rating\")\n",
    "\n",
    "y_1 = actors_age_df_draw['age']\n",
    "x_1 = actors_age_df_draw['averageRating']\n",
    "x_1_1 = x_1.groupby('age').mean()\n",
    "\n",
    "y_2 = actresses_age_df_draw['age']\n",
    "x_2 = actresses_age_df_draw['averageRating']\n",
    "x_2_2 = x_2.groupby('age').mean()\n",
    "\n",
    "ax.scatter(x_1, y_1, s=1, c='blue', label=\"actors\")\n",
    "ax.scatter(x_2, y_2, s=1, c='red', label=\"actresses\")\n",
    "\n",
    "ax.plot(x_1_1, x_1_1.index, 'b', markevery=25, label=\"actors_avg(rating)\")\n",
    "ax.plot(x_2_2, x_2_2.index, 'r', markevery=25, label=\"actresses_avg(rating)\")\n",
    "ax.legend(loc='best')\n",
    "plt.savefig('age_mapping_rating.png')\n",
    "ax"
   ]
  },
  {
   "cell_type": "markdown",
   "metadata": {},
   "source": [
    "The linear correlation mainly uses the Pearson correlation coefficient r to measure the linear correlation strength between continuous variables;\n",
    "r>0, linear positive correlation; r<0, linear negative correlation;\n",
    "r=0, there is no linear relationship between the two variables, and does not mean that there is no relationship between the two variables."
   ]
  },
  {
   "cell_type": "code",
   "execution_count": 192,
   "metadata": {},
   "outputs": [
    {
     "data": {
      "text/plain": [
       "0.037979784708851626"
      ]
     },
     "execution_count": 192,
     "metadata": {},
     "output_type": "execute_result"
    }
   ],
   "source": [
    "actresses['averageRating'].corr(actresses['age'])"
   ]
  },
  {
   "cell_type": "code",
   "execution_count": 194,
   "metadata": {},
   "outputs": [
    {
     "data": {
      "text/plain": [
       "-0.0019829741473593085"
      ]
     },
     "execution_count": 194,
     "metadata": {},
     "output_type": "execute_result"
    }
   ],
   "source": [
    "actors['averageRating'].corr(actors['age'])"
   ]
  },
  {
   "cell_type": "code",
   "execution_count": null,
   "metadata": {},
   "outputs": [],
   "source": []
  }
 ],
 "metadata": {
  "kernelspec": {
   "display_name": "Python 3",
   "language": "python",
   "name": "python3"
  },
  "language_info": {
   "codemirror_mode": {
    "name": "ipython",
    "version": 3
   },
   "file_extension": ".py",
   "mimetype": "text/x-python",
   "name": "python",
   "nbconvert_exporter": "python",
   "pygments_lexer": "ipython3",
   "version": "3.7.3"
  }
 },
 "nbformat": 4,
 "nbformat_minor": 2
}
