{
 "cells": [
  {
   "cell_type": "code",
   "execution_count": null,
   "metadata": {},
   "outputs": [],
   "source": [
    "# https://openpsychometrics.org/_rawdata/validity/"
   ]
  },
  {
   "cell_type": "code",
   "execution_count": 1,
   "metadata": {},
   "outputs": [],
   "source": [
    "import csv\n",
    "import pandas as pd"
   ]
  },
  {
   "cell_type": "code",
   "execution_count": 2,
   "metadata": {},
   "outputs": [],
   "source": [
    "datafile_amt = \"./mTurk-comparison-data/data_amt.csv\"\n",
    "datafile_ospp = \"./mTurk-comparison-data/data_ospp.csv\""
   ]
  },
  {
   "cell_type": "code",
   "execution_count": 3,
   "metadata": {},
   "outputs": [
    {
     "data": {
      "text/plain": [
       "<csv.DictReader at 0x7f3aecf78320>"
      ]
     },
     "execution_count": 3,
     "metadata": {},
     "output_type": "execute_result"
    }
   ],
   "source": [
    "csv.DictReader(open(datafile_amt), delimiter='\\t')"
   ]
  },
  {
   "cell_type": "code",
   "execution_count": 4,
   "metadata": {},
   "outputs": [],
   "source": [
    "\n",
    "from collections import Counter\n",
    "\n",
    "def analysis(datafile):\n",
    "    print('ANALYSIS FOR {}'.format(datafile))\n",
    "\n",
    "    data = list(csv.DictReader(open(datafile), delimiter='\\t'))\n",
    "\n",
    "    print(\"     n = , {}\".format(len(data)))\n",
    "\n",
    "\n",
    "    ansd = Counter([x[\"Q11\"] for x in data])\n",
    "    for i in range(0,6):\n",
    "        print(\"          \", i, ansd[str(i)])\n",
    "\n",
    "    print(\"     Q12 answers: \")\n",
    "    ansd = Counter([x[\"Q12\"] for x in data])\n",
    "    for i in range(0,6):\n",
    "        print(\"          \", i, ansd[str(i)])\n",
    "\n",
    "    dataf = list()\n",
    "    for d in data:\n",
    "        if d[\"Q2\"] == '5':\n",
    "            dataf.append(d)\n",
    "\n",
    "    print(\"     Q1 answers (filtered for Q2=5): \")\n",
    "    ansd = Counter([x[\"Q1\"] for x in dataf])\n",
    "    for i in range(0,6):\n",
    "        print(\"          \", i, ansd[str(i)])\n",
    "\n",
    "\n"
   ]
  },
  {
   "cell_type": "code",
   "execution_count": 5,
   "metadata": {},
   "outputs": [
    {
     "name": "stdout",
     "output_type": "stream",
     "text": [
      "ANALYSIS FOR ./mTurk-comparison-data/data_amt.csv\n",
      "     n = , 1402\n",
      "           0 6\n",
      "           1 1077\n",
      "           2 155\n",
      "           3 65\n",
      "           4 67\n",
      "           5 32\n",
      "     Q12 answers: \n",
      "           0 15\n",
      "           1 1115\n",
      "           2 120\n",
      "           3 60\n",
      "           4 60\n",
      "           5 32\n",
      "     Q1 answers (filtered for Q2=5): \n",
      "           0 1\n",
      "           1 150\n",
      "           2 11\n",
      "           3 1\n",
      "           4 10\n",
      "           5 16\n"
     ]
    }
   ],
   "source": [
    "analysis(datafile_amt)"
   ]
  },
  {
   "cell_type": "code",
   "execution_count": 6,
   "metadata": {},
   "outputs": [
    {
     "name": "stdout",
     "output_type": "stream",
     "text": [
      "ANALYSIS FOR ./mTurk-comparison-data/data_ospp.csv\n",
      "     n = , 54631\n",
      "           0 605\n",
      "           1 48201\n",
      "           2 4328\n",
      "           3 710\n",
      "           4 339\n",
      "           5 448\n",
      "     Q12 answers: \n",
      "           0 625\n",
      "           1 48378\n",
      "           2 3778\n",
      "           3 938\n",
      "           4 406\n",
      "           5 506\n",
      "     Q1 answers (filtered for Q2=5): \n",
      "           0 30\n",
      "           1 6584\n",
      "           2 331\n",
      "           3 61\n",
      "           4 50\n",
      "           5 76\n"
     ]
    }
   ],
   "source": [
    "analysis(datafile_ospp)"
   ]
  },
  {
   "cell_type": "code",
   "execution_count": null,
   "metadata": {},
   "outputs": [],
   "source": []
  }
 ],
 "metadata": {
  "kernelspec": {
   "display_name": "Python 3",
   "language": "python",
   "name": "python3"
  },
  "language_info": {
   "codemirror_mode": {
    "name": "ipython",
    "version": 3
   },
   "file_extension": ".py",
   "mimetype": "text/x-python",
   "name": "python",
   "nbconvert_exporter": "python",
   "pygments_lexer": "ipython3",
   "version": "3.5.2"
  }
 },
 "nbformat": 4,
 "nbformat_minor": 2
}
