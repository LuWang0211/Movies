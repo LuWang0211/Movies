{
 "cells": [
  {
   "cell_type": "code",
   "execution_count": 2,
   "metadata": {},
   "outputs": [],
   "source": [
    "import pyspark as ps"
   ]
  },
  {
   "cell_type": "code",
   "execution_count": 3,
   "metadata": {},
   "outputs": [],
   "source": [
    "%matplotlib inline\n",
    "\n",
    "import numpy as np\n",
    "import pandas as pd\n",
    "from pandas import Series, DataFrame\n",
    "import json\n",
    "import matplotlib.pyplot as plt\n",
    "import scipy.stats as stats\n",
    "\n",
    "# Always make it pretty.\n",
    "plt.style.use('ggplot')"
   ]
  },
  {
   "cell_type": "code",
   "execution_count": 8,
   "metadata": {},
   "outputs": [],
   "source": [
    "spark = (ps.sql.SparkSession\n",
    "         .builder\n",
    "         .master('local[4]')\n",
    "         .appName('lecture')\n",
    "         .getOrCreate()\n",
    "        )"
   ]
  },
  {
   "cell_type": "code",
   "execution_count": 9,
   "metadata": {},
   "outputs": [
    {
     "data": {
      "text/html": [
       "\n",
       "        <div>\n",
       "            <p><b>SparkContext</b></p>\n",
       "\n",
       "            <p><a href=\"http://4ec79f13b0fe:4040\">Spark UI</a></p>\n",
       "\n",
       "            <dl>\n",
       "              <dt>Version</dt>\n",
       "                <dd><code>v2.4.3</code></dd>\n",
       "              <dt>Master</dt>\n",
       "                <dd><code>local[4]</code></dd>\n",
       "              <dt>AppName</dt>\n",
       "                <dd><code>lecture</code></dd>\n",
       "            </dl>\n",
       "        </div>\n",
       "        "
      ],
      "text/plain": [
       "<SparkContext master=local[4] appName=lecture>"
      ]
     },
     "execution_count": 9,
     "metadata": {},
     "output_type": "execute_result"
    }
   ],
   "source": [
    "sc = spark.sparkContext\n",
    "sc"
   ]
  },
  {
   "cell_type": "code",
   "execution_count": 10,
   "metadata": {},
   "outputs": [],
   "source": [
    "name_basics_path = 'IMDb_datasets/name.basics.tsv'\n",
    "title_akas_path = 'IMDb_datasets/title.akas.tsv'\n",
    "title_basics_path = 'IMDb_datasets/title.basics.tsv'\n",
    "title_crew_path = 'IMDb_datasets/title.crew.tsv'\n",
    "title_episode_path = 'IMDb_datasets/title.episode.tsv'\n",
    "title_principals_path = 'IMDb_datasets/title.principals.tsv'\n",
    "title_ratings_path = 'IMDb_datasets/title.ratings.tsv'"
   ]
  },
  {
   "cell_type": "code",
   "execution_count": 11,
   "metadata": {},
   "outputs": [],
   "source": [
    "rdd_name_basics_raw = sc.textFile(name_basics_path)\n",
    "rdd_title_akas_raw = sc.textFile(title_akas_path)\n",
    "rdd_title_basics_raw = sc.textFile(title_basics_path)\n",
    "rdd_title_crew_raw = sc.textFile(title_crew_path)\n",
    "rdd_title_episode_raw = sc.textFile(title_episode_path)\n",
    "rdd_title_principals_raw = sc.textFile(title_principals_path)\n",
    "rdd_ntitle_ratings_raw = sc.textFile(title_ratings_path)"
   ]
  },
  {
   "cell_type": "code",
   "execution_count": 12,
   "metadata": {},
   "outputs": [],
   "source": [
    "def transform_to_df(path):\n",
    "    return spark.read.csv(path,\n",
    "                         header=True,       # use headers or not\n",
    "                         quote='\"',         # char for quotes\n",
    "                         sep=\"\\t\",           # char for separation\n",
    "                         inferSchema=True)  # do we infer schema or not ?"
   ]
  },
  {
   "cell_type": "code",
   "execution_count": 13,
   "metadata": {},
   "outputs": [],
   "source": [
    "name_basics_df  = transform_to_df(name_basics_path)\n",
    "title_akas_df   = transform_to_df(title_akas_path)\n",
    "title_basics_df = transform_to_df(title_basics_path)\n",
    "title_crew_df   = transform_to_df(title_crew_path)\n",
    "title_episode_df= transform_to_df(title_episode_path)\n",
    "title_principals_df = transform_to_df(title_principals_path)\n",
    "title_ratings_df= transform_to_df(title_ratings_path)"
   ]
  },
  {
   "cell_type": "code",
   "execution_count": 10,
   "metadata": {},
   "outputs": [
    {
     "name": "stdout",
     "output_type": "stream",
     "text": [
      "root\n",
      " |-- nconst: string (nullable = true)\n",
      " |-- primaryName: string (nullable = true)\n",
      " |-- birthYear: string (nullable = true)\n",
      " |-- deathYear: string (nullable = true)\n",
      " |-- primaryProfession: string (nullable = true)\n",
      " |-- knownForTitles: string (nullable = true)\n",
      "\n",
      "+---------+---------------+---------+---------+--------------------+--------------------+\n",
      "|   nconst|    primaryName|birthYear|deathYear|   primaryProfession|      knownForTitles|\n",
      "+---------+---------------+---------+---------+--------------------+--------------------+\n",
      "|nm0000001|   Fred Astaire|     1899|     1987|soundtrack,actor,...|tt0072308,tt00504...|\n",
      "|nm0000002|  Lauren Bacall|     1924|     2014|  actress,soundtrack|tt0071877,tt01170...|\n",
      "|nm0000003|Brigitte Bardot|     1934|       \\N|actress,soundtrac...|tt0049189,tt00573...|\n",
      "|nm0000004|   John Belushi|     1949|     1982|actor,writer,soun...|tt0078723,tt00779...|\n",
      "|nm0000005| Ingmar Bergman|     1918|     2007|writer,director,a...|tt0050976,tt00839...|\n",
      "+---------+---------------+---------+---------+--------------------+--------------------+\n",
      "only showing top 5 rows\n",
      "\n"
     ]
    }
   ],
   "source": [
    "name_basics_df.printSchema()\n",
    "name_basics_df.show(5)"
   ]
  },
  {
   "cell_type": "code",
   "execution_count": 11,
   "metadata": {},
   "outputs": [
    {
     "name": "stdout",
     "output_type": "stream",
     "text": [
      "root\n",
      " |-- titleId: string (nullable = true)\n",
      " |-- ordering: integer (nullable = true)\n",
      " |-- title: string (nullable = true)\n",
      " |-- region: string (nullable = true)\n",
      " |-- language: string (nullable = true)\n",
      " |-- types: string (nullable = true)\n",
      " |-- attributes: string (nullable = true)\n",
      " |-- isOriginalTitle: string (nullable = true)\n",
      "\n",
      "+---------+--------+--------------------+------+--------+-----------+----------+---------------+\n",
      "|  titleId|ordering|               title|region|language|      types|attributes|isOriginalTitle|\n",
      "+---------+--------+--------------------+------+--------+-----------+----------+---------------+\n",
      "|tt0000001|       1|Carmencita - span...|    HU|      \\N|imdbDisplay|        \\N|              0|\n",
      "|tt0000001|       2|          Καρμενσίτα|    GR|      \\N|         \\N|        \\N|              0|\n",
      "|tt0000001|       3|          Карменсита|    RU|      \\N|         \\N|        \\N|              0|\n",
      "|tt0000001|       4|          Carmencita|    US|      \\N|         \\N|        \\N|              0|\n",
      "|tt0000001|       5|          Carmencita|    \\N|      \\N|   original|        \\N|              1|\n",
      "+---------+--------+--------------------+------+--------+-----------+----------+---------------+\n",
      "only showing top 5 rows\n",
      "\n"
     ]
    }
   ],
   "source": [
    "title_akas_df.printSchema()\n",
    "title_akas_df.show(5)"
   ]
  },
  {
   "cell_type": "code",
   "execution_count": 12,
   "metadata": {},
   "outputs": [
    {
     "name": "stdout",
     "output_type": "stream",
     "text": [
      "root\n",
      " |-- tconst: string (nullable = true)\n",
      " |-- titleType: string (nullable = true)\n",
      " |-- primaryTitle: string (nullable = true)\n",
      " |-- originalTitle: string (nullable = true)\n",
      " |-- isAdult: integer (nullable = true)\n",
      " |-- startYear: string (nullable = true)\n",
      " |-- endYear: string (nullable = true)\n",
      " |-- runtimeMinutes: string (nullable = true)\n",
      " |-- genres: string (nullable = true)\n",
      "\n",
      "+---------+---------+--------------------+--------------------+-------+---------+-------+--------------+--------------------+\n",
      "|   tconst|titleType|        primaryTitle|       originalTitle|isAdult|startYear|endYear|runtimeMinutes|              genres|\n",
      "+---------+---------+--------------------+--------------------+-------+---------+-------+--------------+--------------------+\n",
      "|tt0000001|    short|          Carmencita|          Carmencita|      0|     1894|     \\N|             1|   Documentary,Short|\n",
      "|tt0000002|    short|Le clown et ses c...|Le clown et ses c...|      0|     1892|     \\N|             5|     Animation,Short|\n",
      "|tt0000003|    short|      Pauvre Pierrot|      Pauvre Pierrot|      0|     1892|     \\N|             4|Animation,Comedy,...|\n",
      "|tt0000004|    short|         Un bon bock|         Un bon bock|      0|     1892|     \\N|            \\N|     Animation,Short|\n",
      "|tt0000005|    short|    Blacksmith Scene|    Blacksmith Scene|      0|     1893|     \\N|             1|        Comedy,Short|\n",
      "+---------+---------+--------------------+--------------------+-------+---------+-------+--------------+--------------------+\n",
      "only showing top 5 rows\n",
      "\n"
     ]
    }
   ],
   "source": [
    "title_basics_df.printSchema()\n",
    "title_basics_df.show(5)"
   ]
  },
  {
   "cell_type": "code",
   "execution_count": 13,
   "metadata": {},
   "outputs": [
    {
     "name": "stdout",
     "output_type": "stream",
     "text": [
      "root\n",
      " |-- tconst: string (nullable = true)\n",
      " |-- directors: string (nullable = true)\n",
      " |-- writers: string (nullable = true)\n",
      "\n",
      "+---------+---------+-------+\n",
      "|   tconst|directors|writers|\n",
      "+---------+---------+-------+\n",
      "|tt0000001|nm0005690|     \\N|\n",
      "|tt0000002|nm0721526|     \\N|\n",
      "|tt0000003|nm0721526|     \\N|\n",
      "|tt0000004|nm0721526|     \\N|\n",
      "|tt0000005|nm0005690|     \\N|\n",
      "+---------+---------+-------+\n",
      "only showing top 5 rows\n",
      "\n"
     ]
    }
   ],
   "source": [
    "title_crew_df.printSchema()\n",
    "title_crew_df.show(5)"
   ]
  },
  {
   "cell_type": "code",
   "execution_count": 14,
   "metadata": {},
   "outputs": [
    {
     "name": "stdout",
     "output_type": "stream",
     "text": [
      "root\n",
      " |-- tconst: string (nullable = true)\n",
      " |-- parentTconst: string (nullable = true)\n",
      " |-- seasonNumber: string (nullable = true)\n",
      " |-- episodeNumber: string (nullable = true)\n",
      "\n",
      "+---------+------------+------------+-------------+\n",
      "|   tconst|parentTconst|seasonNumber|episodeNumber|\n",
      "+---------+------------+------------+-------------+\n",
      "|tt0041951|   tt0041038|           1|            9|\n",
      "|tt0042816|   tt0989125|           1|           17|\n",
      "|tt0042889|   tt0989125|          \\N|           \\N|\n",
      "|tt0043426|   tt0040051|           3|           42|\n",
      "|tt0043631|   tt0989125|           2|           16|\n",
      "+---------+------------+------------+-------------+\n",
      "only showing top 5 rows\n",
      "\n"
     ]
    }
   ],
   "source": [
    "title_episode_df.printSchema()\n",
    "title_episode_df.show(5)"
   ]
  },
  {
   "cell_type": "code",
   "execution_count": 15,
   "metadata": {},
   "outputs": [
    {
     "name": "stdout",
     "output_type": "stream",
     "text": [
      "root\n",
      " |-- tconst: string (nullable = true)\n",
      " |-- ordering: integer (nullable = true)\n",
      " |-- nconst: string (nullable = true)\n",
      " |-- category: string (nullable = true)\n",
      " |-- job: string (nullable = true)\n",
      " |-- characters: string (nullable = true)\n",
      "\n",
      "+---------+--------+---------+---------------+--------------------+-----------+\n",
      "|   tconst|ordering|   nconst|       category|                 job| characters|\n",
      "+---------+--------+---------+---------------+--------------------+-----------+\n",
      "|tt0000001|       1|nm1588970|           self|                  \\N|[\"Herself\"]|\n",
      "|tt0000001|       2|nm0005690|       director|                  \\N|         \\N|\n",
      "|tt0000001|       3|nm0374658|cinematographer|director of photo...|         \\N|\n",
      "|tt0000002|       1|nm0721526|       director|                  \\N|         \\N|\n",
      "|tt0000002|       2|nm1335271|       composer|                  \\N|         \\N|\n",
      "+---------+--------+---------+---------------+--------------------+-----------+\n",
      "only showing top 5 rows\n",
      "\n"
     ]
    }
   ],
   "source": [
    "title_principals_df.printSchema()\n",
    "title_principals_df.show(5)"
   ]
  },
  {
   "cell_type": "code",
   "execution_count": 16,
   "metadata": {},
   "outputs": [
    {
     "name": "stdout",
     "output_type": "stream",
     "text": [
      "root\n",
      " |-- tconst: string (nullable = true)\n",
      " |-- averageRating: double (nullable = true)\n",
      " |-- numVotes: integer (nullable = true)\n",
      "\n",
      "+---------+-------------+--------+\n",
      "|   tconst|averageRating|numVotes|\n",
      "+---------+-------------+--------+\n",
      "|tt0000001|          5.8|    1504|\n",
      "|tt0000002|          6.3|     183|\n",
      "|tt0000003|          6.6|    1150|\n",
      "|tt0000004|          6.3|     112|\n",
      "|tt0000005|          6.2|    1849|\n",
      "+---------+-------------+--------+\n",
      "only showing top 5 rows\n",
      "\n"
     ]
    }
   ],
   "source": [
    "title_ratings_df.printSchema()\n",
    "title_ratings_df.show(5)"
   ]
  },
  {
   "cell_type": "markdown",
   "metadata": {},
   "source": [
    "# Clean DATA"
   ]
  },
  {
   "cell_type": "code",
   "execution_count": 17,
   "metadata": {},
   "outputs": [
    {
     "name": "stdout",
     "output_type": "stream",
     "text": [
      "+---------+---------+--------------------+--------------------+-------+---------+-------+--------------+--------------------+\n",
      "|   tconst|titleType|        primaryTitle|       originalTitle|isAdult|startYear|endYear|runtimeMinutes|              genres|\n",
      "+---------+---------+--------------------+--------------------+-------+---------+-------+--------------+--------------------+\n",
      "|tt0000009|    movie|          Miss Jerry|          Miss Jerry|      0|     1894|     \\N|            45|             Romance|\n",
      "|tt0000147|    movie|The Corbett-Fitzs...|The Corbett-Fitzs...|      0|     1897|     \\N|            20|Documentary,News,...|\n",
      "|tt0000335|    movie|Soldiers of the C...|Soldiers of the C...|      0|     1900|     \\N|            \\N|     Biography,Drama|\n",
      "|tt0000502|    movie|            Bohemios|            Bohemios|      0|     1905|     \\N|           100|                  \\N|\n",
      "|tt0000574|    movie|The Story of the ...|The Story of the ...|      0|     1906|     \\N|            70|Biography,Crime,D...|\n",
      "+---------+---------+--------------------+--------------------+-------+---------+-------+--------------+--------------------+\n",
      "only showing top 5 rows\n",
      "\n"
     ]
    }
   ],
   "source": [
    "movies_df = title_basics_df[title_basics_df['titleType']=='movie']\n",
    "movies_df.show(5)"
   ]
  },
  {
   "cell_type": "markdown",
   "metadata": {},
   "source": [
    "# 1. movies_df_raw"
   ]
  },
  {
   "cell_type": "code",
   "execution_count": 18,
   "metadata": {},
   "outputs": [
    {
     "name": "stdout",
     "output_type": "stream",
     "text": [
      "root\n",
      " |-- titleId: string (nullable = true)\n",
      " |-- ordering: integer (nullable = true)\n",
      " |-- title: string (nullable = true)\n",
      " |-- region: string (nullable = true)\n",
      " |-- language: string (nullable = true)\n",
      " |-- types: string (nullable = true)\n",
      " |-- attributes: string (nullable = true)\n",
      " |-- isOriginalTitle: string (nullable = true)\n",
      " |-- titleType: string (nullable = true)\n",
      " |-- primaryTitle: string (nullable = true)\n",
      " |-- originalTitle: string (nullable = true)\n",
      " |-- isAdult: integer (nullable = true)\n",
      " |-- startYear: string (nullable = true)\n",
      " |-- endYear: string (nullable = true)\n",
      " |-- runtimeMinutes: string (nullable = true)\n",
      " |-- genres: string (nullable = true)\n",
      "\n",
      "+---------+--------+--------------------+------+--------+--------+----------+---------------+---------+--------------------+--------------------+-------+---------+-------+--------------+---------------+\n",
      "|  titleId|ordering|               title|region|language|   types|attributes|isOriginalTitle|titleType|        primaryTitle|       originalTitle|isAdult|startYear|endYear|runtimeMinutes|         genres|\n",
      "+---------+--------+--------------------+------+--------+--------+----------+---------------+---------+--------------------+--------------------+-------+---------+-------+--------------+---------------+\n",
      "|tt0000658|       1|Le cauchemar de F...|    FR|      \\N|      \\N|        \\N|              0|    short|The Puppet's Nigh...|Le cauchemar de F...|      0|     1908|     \\N|             2|Animation,Short|\n",
      "|tt0000658|       2|   Living Blackboard|   XWW|      en|      \\N|        \\N|              0|    short|The Puppet's Nigh...|Le cauchemar de F...|      0|     1908|     \\N|             2|Animation,Short|\n",
      "|tt0000658|       3|Le cauchemar de F...|    \\N|      \\N|original|        \\N|              1|    short|The Puppet's Nigh...|Le cauchemar de F...|      0|     1908|     \\N|             2|Animation,Short|\n",
      "+---------+--------+--------------------+------+--------+--------+----------+---------------+---------+--------------------+--------------------+-------+---------+-------+--------------+---------------+\n",
      "only showing top 3 rows\n",
      "\n"
     ]
    }
   ],
   "source": [
    "movies_df_raw1 = title_akas_df.join(title_basics_df, title_akas_df['titleId'] == title_basics_df['tconst']).drop('tconst')\n",
    "movies_df_raw1.printSchema()\n",
    "movies_df_raw1.show(3)"
   ]
  },
  {
   "cell_type": "code",
   "execution_count": 19,
   "metadata": {},
   "outputs": [
    {
     "name": "stdout",
     "output_type": "stream",
     "text": [
      "root\n",
      " |-- titleId: string (nullable = true)\n",
      " |-- ordering: integer (nullable = true)\n",
      " |-- title: string (nullable = true)\n",
      " |-- region: string (nullable = true)\n",
      " |-- language: string (nullable = true)\n",
      " |-- types: string (nullable = true)\n",
      " |-- attributes: string (nullable = true)\n",
      " |-- isOriginalTitle: string (nullable = true)\n",
      " |-- titleType: string (nullable = true)\n",
      " |-- primaryTitle: string (nullable = true)\n",
      " |-- originalTitle: string (nullable = true)\n",
      " |-- isAdult: integer (nullable = true)\n",
      " |-- startYear: string (nullable = true)\n",
      " |-- endYear: string (nullable = true)\n",
      " |-- runtimeMinutes: string (nullable = true)\n",
      " |-- genres: string (nullable = true)\n",
      " |-- directors: string (nullable = true)\n",
      " |-- writers: string (nullable = true)\n",
      "\n",
      "+---------+--------+--------------------+------+--------+--------+----------+---------------+---------+--------------------+--------------------+-------+---------+-------+--------------+---------------+---------+-------+\n",
      "|  titleId|ordering|               title|region|language|   types|attributes|isOriginalTitle|titleType|        primaryTitle|       originalTitle|isAdult|startYear|endYear|runtimeMinutes|         genres|directors|writers|\n",
      "+---------+--------+--------------------+------+--------+--------+----------+---------------+---------+--------------------+--------------------+-------+---------+-------+--------------+---------------+---------+-------+\n",
      "|tt0000658|       1|Le cauchemar de F...|    FR|      \\N|      \\N|        \\N|              0|    short|The Puppet's Nigh...|Le cauchemar de F...|      0|     1908|     \\N|             2|Animation,Short|nm0169871|     \\N|\n",
      "|tt0000658|       2|   Living Blackboard|   XWW|      en|      \\N|        \\N|              0|    short|The Puppet's Nigh...|Le cauchemar de F...|      0|     1908|     \\N|             2|Animation,Short|nm0169871|     \\N|\n",
      "|tt0000658|       3|Le cauchemar de F...|    \\N|      \\N|original|        \\N|              1|    short|The Puppet's Nigh...|Le cauchemar de F...|      0|     1908|     \\N|             2|Animation,Short|nm0169871|     \\N|\n",
      "+---------+--------+--------------------+------+--------+--------+----------+---------------+---------+--------------------+--------------------+-------+---------+-------+--------------+---------------+---------+-------+\n",
      "only showing top 3 rows\n",
      "\n"
     ]
    }
   ],
   "source": [
    "movies_df_raw2 = movies_df_raw1.join(title_crew_df, movies_df_raw1['titleId'] == title_crew_df['tconst']).drop('tconst')\n",
    "movies_df_raw2.printSchema()\n",
    "movies_df_raw2.show(3)"
   ]
  },
  {
   "cell_type": "code",
   "execution_count": 20,
   "metadata": {},
   "outputs": [
    {
     "name": "stdout",
     "output_type": "stream",
     "text": [
      "root\n",
      " |-- titleId: string (nullable = true)\n",
      " |-- ordering: integer (nullable = true)\n",
      " |-- title: string (nullable = true)\n",
      " |-- region: string (nullable = true)\n",
      " |-- language: string (nullable = true)\n",
      " |-- types: string (nullable = true)\n",
      " |-- attributes: string (nullable = true)\n",
      " |-- isOriginalTitle: string (nullable = true)\n",
      " |-- titleType: string (nullable = true)\n",
      " |-- primaryTitle: string (nullable = true)\n",
      " |-- originalTitle: string (nullable = true)\n",
      " |-- isAdult: integer (nullable = true)\n",
      " |-- startYear: string (nullable = true)\n",
      " |-- endYear: string (nullable = true)\n",
      " |-- runtimeMinutes: string (nullable = true)\n",
      " |-- genres: string (nullable = true)\n",
      " |-- directors: string (nullable = true)\n",
      " |-- writers: string (nullable = true)\n",
      " |-- averageRating: double (nullable = true)\n",
      " |-- numVotes: integer (nullable = true)\n",
      "\n",
      "+---------+--------+--------------------+------+--------+--------+----------+---------------+---------+--------------------+--------------------+-------+---------+-------+--------------+---------------+---------+-------+-------------+--------+\n",
      "|  titleId|ordering|               title|region|language|   types|attributes|isOriginalTitle|titleType|        primaryTitle|       originalTitle|isAdult|startYear|endYear|runtimeMinutes|         genres|directors|writers|averageRating|numVotes|\n",
      "+---------+--------+--------------------+------+--------+--------+----------+---------------+---------+--------------------+--------------------+-------+---------+-------+--------------+---------------+---------+-------+-------------+--------+\n",
      "|tt0000658|       1|Le cauchemar de F...|    FR|      \\N|      \\N|        \\N|              0|    short|The Puppet's Nigh...|Le cauchemar de F...|      0|     1908|     \\N|             2|Animation,Short|nm0169871|     \\N|          6.5|     143|\n",
      "|tt0000658|       2|   Living Blackboard|   XWW|      en|      \\N|        \\N|              0|    short|The Puppet's Nigh...|Le cauchemar de F...|      0|     1908|     \\N|             2|Animation,Short|nm0169871|     \\N|          6.5|     143|\n",
      "|tt0000658|       3|Le cauchemar de F...|    \\N|      \\N|original|        \\N|              1|    short|The Puppet's Nigh...|Le cauchemar de F...|      0|     1908|     \\N|             2|Animation,Short|nm0169871|     \\N|          6.5|     143|\n",
      "+---------+--------+--------------------+------+--------+--------+----------+---------------+---------+--------------------+--------------------+-------+---------+-------+--------------+---------------+---------+-------+-------------+--------+\n",
      "only showing top 3 rows\n",
      "\n"
     ]
    }
   ],
   "source": [
    "movies_df_raw3 = movies_df_raw2.join(title_ratings_df, movies_df_raw2['titleId'] == title_ratings_df['tconst']).drop('tconst')\n",
    "movies_df_raw3.printSchema()\n",
    "movies_df_raw3.show(3)"
   ]
  },
  {
   "cell_type": "code",
   "execution_count": 21,
   "metadata": {},
   "outputs": [],
   "source": [
    "from pyspark.sql import functions as F"
   ]
  },
  {
   "cell_type": "code",
   "execution_count": 22,
   "metadata": {},
   "outputs": [
    {
     "name": "stdout",
     "output_type": "stream",
     "text": [
      "+---------+--------+--------------------+------+--------+--------+----------+---------------+---------+--------------------+--------------------+-------+---------+-------+--------------+-----------------+---------+-------------------+-------------+--------+\n",
      "|  titleId|ordering|               title|region|language|   types|attributes|isOriginalTitle|titleType|        primaryTitle|       originalTitle|isAdult|startYear|endYear|runtimeMinutes|           genres|directors|            writers|averageRating|numVotes|\n",
      "+---------+--------+--------------------+------+--------+--------+----------+---------------+---------+--------------------+--------------------+-------+---------+-------+--------------+-----------------+---------+-------------------+-------------+--------+\n",
      "|tt0004272|       1|Lucille Love, la ...|    VE|      \\N|      \\N|        \\N|              0|    movie|Lucille Love: The...|Lucille Love: The...|      0|     1914|     \\N|           300|           Action|nm0285643|nm0192062,nm0285643|          5.8|       9|\n",
      "|tt0004272|       2|Lucille Love: The...|    US|      \\N|      \\N|        \\N|              0|    movie|Lucille Love: The...|Lucille Love: The...|      0|     1914|     \\N|           300|           Action|nm0285643|nm0192062,nm0285643|          5.8|       9|\n",
      "|tt0004272|       3|Lucille Love: The...|    \\N|      \\N|original|        \\N|              1|    movie|Lucille Love: The...|Lucille Love: The...|      0|     1914|     \\N|           300|           Action|nm0285643|nm0192062,nm0285643|          5.8|       9|\n",
      "|tt0004336|       1|El misterio del m...|    ES|      \\N|      \\N|        \\N|              0|    movie|The Million Dolla...|The Million Dolla...|      0|     1914|     \\N|            \\N|Adventure,Mystery|nm0360617|nm0518840,nm0569805|          5.5|      21|\n",
      "|tt0004336|       2|The Million Dolla...|    \\N|      \\N|original|        \\N|              1|    movie|The Million Dolla...|The Million Dolla...|      0|     1914|     \\N|            \\N|Adventure,Mystery|nm0360617|nm0518840,nm0569805|          5.5|      21|\n",
      "+---------+--------+--------------------+------+--------+--------+----------+---------------+---------+--------------------+--------------------+-------+---------+-------+--------------+-----------------+---------+-------------------+-------------+--------+\n",
      "only showing top 5 rows\n",
      "\n",
      "+---------+----------------+\n",
      "|titleType|count(titleType)|\n",
      "+---------+----------------+\n",
      "|  tvMovie|          138148|\n",
      "|    movie|         1219539|\n",
      "+---------+----------------+\n",
      "\n"
     ]
    }
   ],
   "source": [
    "movies_df_raw4 = movies_df_raw3.filter((movies_df_raw3['titleType'] == 'tvMovie')|(movies_df_raw3['titleType']=='movie'))\n",
    "movies_df_raw4.show(5)\n",
    "movies_count = movies_df_raw4.groupby('titleType').agg(F.count(\"titleType\"))\n",
    "movies_count.show()"
   ]
  },
  {
   "cell_type": "code",
   "execution_count": null,
   "metadata": {},
   "outputs": [],
   "source": []
  },
  {
   "cell_type": "markdown",
   "metadata": {},
   "source": [
    "# 2. cast_crew_df_raw"
   ]
  },
  {
   "cell_type": "code",
   "execution_count": 23,
   "metadata": {},
   "outputs": [
    {
     "name": "stdout",
     "output_type": "stream",
     "text": [
      "root\n",
      " |-- nconst: string (nullable = true)\n",
      " |-- primaryName: string (nullable = true)\n",
      " |-- birthYear: string (nullable = true)\n",
      " |-- deathYear: string (nullable = true)\n",
      " |-- primaryProfession: string (nullable = true)\n",
      " |-- knownForTitles: string (nullable = true)\n",
      " |-- tconst: string (nullable = true)\n",
      " |-- ordering: integer (nullable = true)\n",
      " |-- category: string (nullable = true)\n",
      " |-- job: string (nullable = true)\n",
      " |-- characters: string (nullable = true)\n",
      "\n",
      "+---------+--------------+---------+---------+--------------------+--------------------+---------+--------+--------+---+--------------------+\n",
      "|   nconst|   primaryName|birthYear|deathYear|   primaryProfession|      knownForTitles|   tconst|ordering|category|job|          characters|\n",
      "+---------+--------------+---------+---------+--------------------+--------------------+---------+--------+--------+---+--------------------+\n",
      "|nm0000086|Louis de Funès|     1914|     1983|actor,writer,soun...|tt0079200,tt00697...|tt0043398|       1|   actor| \\N|                  \\N|\n",
      "|nm0000086|Louis de Funès|     1914|     1983|actor,writer,soun...|tt0079200,tt00697...|tt0043691|       1|   actor| \\N|[\"Piotr Petrovitch\"]|\n",
      "+---------+--------------+---------+---------+--------------------+--------------------+---------+--------+--------+---+--------------------+\n",
      "only showing top 2 rows\n",
      "\n"
     ]
    }
   ],
   "source": [
    "cast_crew_df_raw1 = name_basics_df.join(title_principals_df, name_basics_df['nconst'] == title_principals_df['nconst']).drop(title_principals_df['nconst'])\n",
    "cast_crew_df_raw1.printSchema()\n",
    "cast_crew_df_raw1.show(2)"
   ]
  },
  {
   "cell_type": "code",
   "execution_count": 26,
   "metadata": {},
   "outputs": [
    {
     "name": "stdout",
     "output_type": "stream",
     "text": [
      "+--------------------+------------------+\n",
      "|         primaryName|count(primaryName)|\n",
      "+--------------------+------------------+\n",
      "|     Acharya Athreya|                31|\n",
      "|       Sidiki Bakaba|                23|\n",
      "|     Vincenzo Cesano|                 1|\n",
      "|             Chandni|                63|\n",
      "|          Giulia Gam|               793|\n",
      "|           S. Gergel|                 1|\n",
      "| Vittorio Musy Glori|                 2|\n",
      "|          Ivan Hajtl|                25|\n",
      "|     Adrian Johnston|               192|\n",
      "|        John Mauceri|                16|\n",
      "|José María Paolan...|                23|\n",
      "|         José Pelayo|                 1|\n",
      "|  Valentina Telegina|                14|\n",
      "|     Laura Treadwell|                 1|\n",
      "|         Doug Walker|              1596|\n",
      "|        Yuri Zhdanov|                 3|\n",
      "|    David A. Hurwitz|                 2|\n",
      "|          Hans Frank|                10|\n",
      "|Christopher Zucke...|                 7|\n",
      "|        Craig Coutee|                 1|\n",
      "+--------------------+------------------+\n",
      "only showing top 20 rows\n",
      "\n"
     ]
    }
   ],
   "source": [
    "cast_crew_df_raw1_count = cast_crew_df_raw1.groupby('primaryName').agg(F.count(\"primaryName\"))\n",
    "cast_crew_df_raw1_count.show()"
   ]
  },
  {
   "cell_type": "code",
   "execution_count": null,
   "metadata": {},
   "outputs": [],
   "source": []
  },
  {
   "cell_type": "markdown",
   "metadata": {},
   "source": [
    "# spark sql"
   ]
  },
  {
   "cell_type": "code",
   "execution_count": 24,
   "metadata": {},
   "outputs": [],
   "source": [
    "movies_df_raw4.createOrReplaceTempView('moives_sql')\n",
    "cast_crew_df_raw1.createOrReplaceTempView('cast_crew_sql')"
   ]
  },
  {
   "cell_type": "markdown",
   "metadata": {},
   "source": [
    "# check duplicate data "
   ]
  },
  {
   "cell_type": "code",
   "execution_count": 25,
   "metadata": {},
   "outputs": [],
   "source": [
    "temp_movie_all = spark.sql(\"SELECT COUNT(titleId) FROM moives_sql\") \n",
    "temp_movie = spark.sql(\"SELECT COUNT(DISTINCT titleId) FROM moives_sql\") "
   ]
  },
  {
   "cell_type": "code",
   "execution_count": 28,
   "metadata": {},
   "outputs": [
    {
     "name": "stdout",
     "output_type": "stream",
     "text": [
      "+--------+\n",
      "|count(1)|\n",
      "+--------+\n",
      "| 1357687|\n",
      "+--------+\n",
      "\n"
     ]
    }
   ],
   "source": [
    "temp_movie_all.show()\n",
    "temp_movie.show()"
   ]
  },
  {
   "cell_type": "code",
   "execution_count": 29,
   "metadata": {},
   "outputs": [
    {
     "name": "stdout",
     "output_type": "stream",
     "text": [
      "+-----------------------+\n",
      "|count(DISTINCT titleId)|\n",
      "+-----------------------+\n",
      "|                 271981|\n",
      "+-----------------------+\n",
      "\n"
     ]
    }
   ],
   "source": []
  },
  {
   "cell_type": "code",
   "execution_count": 31,
   "metadata": {},
   "outputs": [
    {
     "data": {
      "text/plain": [
       "0.20032673215549682"
      ]
     },
     "execution_count": 31,
     "metadata": {},
     "output_type": "execute_result"
    }
   ],
   "source": [
    "271981/1357687"
   ]
  },
  {
   "cell_type": "code",
   "execution_count": 32,
   "metadata": {},
   "outputs": [
    {
     "name": "stdout",
     "output_type": "stream",
     "text": [
      "+---------+--------+--------------------+------+--------+--------+----------+---------------+---------+--------------------+--------------------+-------+---------+-------+--------------+------+---------+-------------------+-------------+--------+\n",
      "|  titleId|ordering|               title|region|language|   types|attributes|isOriginalTitle|titleType|        primaryTitle|       originalTitle|isAdult|startYear|endYear|runtimeMinutes|genres|directors|            writers|averageRating|numVotes|\n",
      "+---------+--------+--------------------+------+--------+--------+----------+---------------+---------+--------------------+--------------------+-------+---------+-------+--------------+------+---------+-------------------+-------------+--------+\n",
      "|tt0004272|       1|Lucille Love, la ...|    VE|      \\N|      \\N|        \\N|              0|    movie|Lucille Love: The...|Lucille Love: The...|      0|     1914|     \\N|           300|Action|nm0285643|nm0192062,nm0285643|          5.8|       9|\n",
      "|tt0004272|       2|Lucille Love: The...|    US|      \\N|      \\N|        \\N|              0|    movie|Lucille Love: The...|Lucille Love: The...|      0|     1914|     \\N|           300|Action|nm0285643|nm0192062,nm0285643|          5.8|       9|\n",
      "|tt0004272|       3|Lucille Love: The...|    \\N|      \\N|original|        \\N|              1|    movie|Lucille Love: The...|Lucille Love: The...|      0|     1914|     \\N|           300|Action|nm0285643|nm0192062,nm0285643|          5.8|       9|\n",
      "+---------+--------+--------------------+------+--------+--------+----------+---------------+---------+--------------------+--------------------+-------+---------+-------+--------------+------+---------+-------------------+-------------+--------+\n",
      "\n"
     ]
    }
   ],
   "source": [
    "temp_movie_id1 = spark.sql(\"SELECT * FROM moives_sql where titleId= 'tt0004272'\") \n",
    "temp_movie_id1.show()"
   ]
  },
  {
   "cell_type": "code",
   "execution_count": 35,
   "metadata": {},
   "outputs": [
    {
     "name": "stdout",
     "output_type": "stream",
     "text": [
      "+-------------+\n",
      "|count(nconst)|\n",
      "+-------------+\n",
      "|     33871367|\n",
      "+-------------+\n",
      "\n"
     ]
    }
   ],
   "source": [
    "temp_0 = spark.sql(\"SELECT count(nconst) FROM cast_crew_sql\")\n",
    "temp_0.show()"
   ]
  },
  {
   "cell_type": "code",
   "execution_count": 34,
   "metadata": {},
   "outputs": [
    {
     "name": "stdout",
     "output_type": "stream",
     "text": [
      "+----------------------+\n",
      "|count(DISTINCT nconst)|\n",
      "+----------------------+\n",
      "|               3716077|\n",
      "+----------------------+\n",
      "\n"
     ]
    }
   ],
   "source": [
    "temp_1 = spark.sql(\"SELECT count(DISTINCT nconst) FROM cast_crew_sql\")\n",
    "temp_1.show()"
   ]
  },
  {
   "cell_type": "code",
   "execution_count": 36,
   "metadata": {},
   "outputs": [
    {
     "data": {
      "text/plain": [
       "0.10971145628695765"
      ]
     },
     "execution_count": 36,
     "metadata": {},
     "output_type": "execute_result"
    }
   ],
   "source": [
    "3716077/33871367"
   ]
  },
  {
   "cell_type": "markdown",
   "metadata": {},
   "source": [
    "# 3. join movies and cast/crew"
   ]
  },
  {
   "cell_type": "code",
   "execution_count": 37,
   "metadata": {},
   "outputs": [],
   "source": [
    "movies_cast_crew_df_raw = movies_df_raw4.join(cast_crew_df_raw1, movies_df_raw4['titleId']==cast_crew_df_raw1['tconst']).drop(cast_crew_df_raw1['tconst'])"
   ]
  },
  {
   "cell_type": "code",
   "execution_count": 38,
   "metadata": {},
   "outputs": [
    {
     "name": "stdout",
     "output_type": "stream",
     "text": [
      "root\n",
      " |-- titleId: string (nullable = true)\n",
      " |-- ordering: integer (nullable = true)\n",
      " |-- title: string (nullable = true)\n",
      " |-- region: string (nullable = true)\n",
      " |-- language: string (nullable = true)\n",
      " |-- types: string (nullable = true)\n",
      " |-- attributes: string (nullable = true)\n",
      " |-- isOriginalTitle: string (nullable = true)\n",
      " |-- titleType: string (nullable = true)\n",
      " |-- primaryTitle: string (nullable = true)\n",
      " |-- originalTitle: string (nullable = true)\n",
      " |-- isAdult: integer (nullable = true)\n",
      " |-- startYear: string (nullable = true)\n",
      " |-- endYear: string (nullable = true)\n",
      " |-- runtimeMinutes: string (nullable = true)\n",
      " |-- genres: string (nullable = true)\n",
      " |-- directors: string (nullable = true)\n",
      " |-- writers: string (nullable = true)\n",
      " |-- averageRating: double (nullable = true)\n",
      " |-- numVotes: integer (nullable = true)\n",
      " |-- nconst: string (nullable = true)\n",
      " |-- primaryName: string (nullable = true)\n",
      " |-- birthYear: string (nullable = true)\n",
      " |-- deathYear: string (nullable = true)\n",
      " |-- primaryProfession: string (nullable = true)\n",
      " |-- knownForTitles: string (nullable = true)\n",
      " |-- ordering: integer (nullable = true)\n",
      " |-- category: string (nullable = true)\n",
      " |-- job: string (nullable = true)\n",
      " |-- characters: string (nullable = true)\n",
      "\n"
     ]
    }
   ],
   "source": [
    "movies_cast_crew_df_raw.printSchema()"
   ]
  },
  {
   "cell_type": "code",
   "execution_count": 39,
   "metadata": {},
   "outputs": [],
   "source": [
    "movies_cast_crew_df_raw.createOrReplaceTempView('movies_cast_crew_sql')"
   ]
  },
  {
   "cell_type": "markdown",
   "metadata": {},
   "source": [
    "## Data 1:  genres"
   ]
  },
  {
   "cell_type": "code",
   "execution_count": null,
   "metadata": {},
   "outputs": [],
   "source": [
    "movies_over_time_df = movies_cast_crew_df_raw['titleId','title','region','genres','startYear','endYear']"
   ]
  },
  {
   "cell_type": "code",
   "execution_count": null,
   "metadata": {},
   "outputs": [],
   "source": [
    "movies_over_time_df.show(10)"
   ]
  },
  {
   "cell_type": "code",
   "execution_count": null,
   "metadata": {},
   "outputs": [],
   "source": [
    "item_num = movies_over_time_df.groupby('titleId').agg(F.count(\"titleId\"))\n",
    "item_num.show()"
   ]
  },
  {
   "cell_type": "code",
   "execution_count": null,
   "metadata": {},
   "outputs": [],
   "source": [
    "movies_genres = spark.sql(\"SELECT DISTINCT titleId, genres, startYear FROM moives_sql\")"
   ]
  },
  {
   "cell_type": "code",
   "execution_count": null,
   "metadata": {},
   "outputs": [],
   "source": [
    "## movies_genres.show()"
   ]
  },
  {
   "cell_type": "code",
   "execution_count": null,
   "metadata": {},
   "outputs": [],
   "source": [
    "movies_genres_df = movies_genres.toPandas()"
   ]
  },
  {
   "cell_type": "code",
   "execution_count": null,
   "metadata": {},
   "outputs": [],
   "source": []
  },
  {
   "cell_type": "code",
   "execution_count": null,
   "metadata": {},
   "outputs": [],
   "source": []
  },
  {
   "cell_type": "markdown",
   "metadata": {},
   "source": [
    "## Data 2:  cast_age"
   ]
  },
  {
   "cell_type": "code",
   "execution_count": 53,
   "metadata": {},
   "outputs": [],
   "source": [
    "movies_cast_df = spark.sql(\"SELECT DISTINCT titleId, title, genres, startYear, nconst, primaryName, birthYear, (startYear-birthYear) as Age, primaryProfession FROM movies_cast_crew_sql WHERE (primaryProfession LIKE '%actress%' OR primaryProfession LIKE'%actor%') \")"
   ]
  },
  {
   "cell_type": "code",
   "execution_count": 54,
   "metadata": {},
   "outputs": [
    {
     "name": "stdout",
     "output_type": "stream",
     "text": [
      "+---------+--------------------+------+---------+---------+------------+---------+----+--------------------+\n",
      "|  titleId|               title|genres|startYear|   nconst| primaryName|birthYear| Age|   primaryProfession|\n",
      "+---------+--------------------+------+---------+---------+------------+---------+----+--------------------+\n",
      "|tt0004272|Lucille Love, la ...|Action|     1914|nm0776747|Harry Schumm|     1877|37.0|               actor|\n",
      "|tt0004272|Lucille Love, la ...|Action|     1914|nm0383278|Wilbur Higby|     1867|47.0| actor,miscellaneous|\n",
      "|tt0004272|Lucille Love, la ...|Action|     1914|nm0285643|Francis Ford|     1881|33.0|actor,director,wr...|\n",
      "+---------+--------------------+------+---------+---------+------------+---------+----+--------------------+\n",
      "only showing top 3 rows\n",
      "\n"
     ]
    }
   ],
   "source": [
    "movies_cast_df.show(3)"
   ]
  },
  {
   "cell_type": "code",
   "execution_count": 56,
   "metadata": {},
   "outputs": [],
   "source": [
    "year_age_df = spark.sql(\"SELECT b.startYear, avg(b.Age), max(b.Age), min(b.Age) FROM (SELECT DISTINCT titleId, startYear, (startYear-birthYear) as Age FROM movies_cast_crew_sql a where (primaryProfession LIKE '%actress%' OR primaryProfession LIKE'%actor%') ) as b GROUP BY b.startYear\")"
   ]
  },
  {
   "cell_type": "code",
   "execution_count": 60,
   "metadata": {},
   "outputs": [
    {
     "name": "stdout",
     "output_type": "stream",
     "text": [
      "+---------+------------------+--------+--------+\n",
      "|startYear|          avg(Age)|max(Age)|min(Age)|\n",
      "+---------+------------------+--------+--------+\n",
      "|     1953| 39.01750934487507|   100.0|     3.0|\n",
      "|     1903|              51.0|    51.0|    51.0|\n",
      "|     1957|39.076772296635085|   101.0|     5.0|\n",
      "|     1897|              38.5|    46.0|    31.0|\n",
      "|     1987| 41.26891984026493|   131.0|     5.0|\n",
      "+---------+------------------+--------+--------+\n",
      "only showing top 5 rows\n",
      "\n"
     ]
    }
   ],
   "source": [
    "year_age_df.show(5)"
   ]
  },
  {
   "cell_type": "code",
   "execution_count": 58,
   "metadata": {},
   "outputs": [
    {
     "name": "stdout",
     "output_type": "stream",
     "text": [
      "+---------+---------+-------+---------+---------+-----+--------------------+\n",
      "|  titleId|startYear|endYear|   nconst|birthYear|  age|   primaryProfession|\n",
      "+---------+---------+-------+---------+---------+-----+--------------------+\n",
      "|tt0005209|     1915|     \\N|nm0148859|     1547|368.0|   writer,soundtrack|\n",
      "|tt0006819|     1916|     \\N|nm0006782|     1776|140.0|writer,soundtrack...|\n",
      "|tt0044008|     1951|     \\N|nm0002042|     1812|139.0|writer,soundtrack...|\n",
      "|tt0050651|     1967|     \\N|nm0036298|     1866|101.0|              writer|\n",
      "|tt0059538|     1965|     \\N|nm0562015|     1842|123.0|              writer|\n",
      "|tt0069228|     1973|     \\N|nm0370426|     1804|169.0|writer,miscellaneous|\n",
      "|tt0073775|     1975|     \\N|nm0944146|     1743|232.0|              writer|\n",
      "|tt0084284|     1983|     \\N|nm0000636|     1564|419.0|writer,soundtrack...|\n",
      "|tt0091142|     1986|     \\N|nm0126406|     1788|198.0|writer,soundtrack...|\n",
      "|tt0091142|     1986|     \\N|nm0791222|     1792|194.0|writer,miscellaneous|\n",
      "|tt0098251|     1989|     \\N|nm0087658|     1867|122.0|     writer,director|\n",
      "|tt0113731|     1995|     \\N|nm0407794|     1857|138.0|   soundtrack,writer|\n",
      "|tt0113731|     1995|     \\N|nm0316044|     1847|148.0|   soundtrack,writer|\n",
      "|tt0133240|     2002|     \\N|nm0829044|     1850|152.0|   writer,soundtrack|\n",
      "|tt0189744|     1999|     \\N|nm0834529|     1849|150.0|   writer,soundtrack|\n",
      "|tt0202536|     1999|     \\N|nm0342278|     1785|214.0|              writer|\n",
      "|tt0202536|     1999|     \\N|nm0342303|     1786|213.0|              writer|\n",
      "|tt0218441|     1974|     \\N|nm0638254|     1864|110.0|              writer|\n",
      "|tt0241025|     2004|     \\N|nm0856842|     1811|193.0|   writer,soundtrack|\n",
      "|tt0260133|     1974|     \\N|nm0529618|     1858|116.0|writer,soundtrack...|\n",
      "+---------+---------+-------+---------+---------+-----+--------------------+\n",
      "only showing top 20 rows\n",
      "\n"
     ]
    }
   ],
   "source": [
    "spark.sql(\"SELECT * FROM (SELECT DISTINCT titleId, startYear, endYear, nconst, birthYear, (startYear-birthYear) as age,primaryProfession FROM movies_cast_crew_sql) WHERE age<5 or age>100 \").show()"
   ]
  },
  {
   "cell_type": "code",
   "execution_count": 61,
   "metadata": {},
   "outputs": [],
   "source": [
    "pd_year_age_df = year_age_df.toPandas()"
   ]
  },
  {
   "cell_type": "code",
   "execution_count": 62,
   "metadata": {},
   "outputs": [
    {
     "data": {
      "text/html": [
       "<div>\n",
       "<style scoped>\n",
       "    .dataframe tbody tr th:only-of-type {\n",
       "        vertical-align: middle;\n",
       "    }\n",
       "\n",
       "    .dataframe tbody tr th {\n",
       "        vertical-align: top;\n",
       "    }\n",
       "\n",
       "    .dataframe thead th {\n",
       "        text-align: right;\n",
       "    }\n",
       "</style>\n",
       "<table border=\"1\" class=\"dataframe\">\n",
       "  <thead>\n",
       "    <tr style=\"text-align: right;\">\n",
       "      <th></th>\n",
       "      <th>startYear</th>\n",
       "      <th>avg(Age)</th>\n",
       "      <th>max(Age)</th>\n",
       "      <th>min(Age)</th>\n",
       "    </tr>\n",
       "  </thead>\n",
       "  <tbody>\n",
       "    <tr>\n",
       "      <th>0</th>\n",
       "      <td>1953</td>\n",
       "      <td>39.017509</td>\n",
       "      <td>100.0</td>\n",
       "      <td>3.0</td>\n",
       "    </tr>\n",
       "    <tr>\n",
       "      <th>1</th>\n",
       "      <td>1903</td>\n",
       "      <td>51.000000</td>\n",
       "      <td>51.0</td>\n",
       "      <td>51.0</td>\n",
       "    </tr>\n",
       "    <tr>\n",
       "      <th>2</th>\n",
       "      <td>1957</td>\n",
       "      <td>39.076772</td>\n",
       "      <td>101.0</td>\n",
       "      <td>5.0</td>\n",
       "    </tr>\n",
       "    <tr>\n",
       "      <th>3</th>\n",
       "      <td>1897</td>\n",
       "      <td>38.500000</td>\n",
       "      <td>46.0</td>\n",
       "      <td>31.0</td>\n",
       "    </tr>\n",
       "    <tr>\n",
       "      <th>4</th>\n",
       "      <td>1987</td>\n",
       "      <td>41.268920</td>\n",
       "      <td>131.0</td>\n",
       "      <td>5.0</td>\n",
       "    </tr>\n",
       "  </tbody>\n",
       "</table>\n",
       "</div>"
      ],
      "text/plain": [
       "  startYear   avg(Age)  max(Age)  min(Age)\n",
       "0      1953  39.017509     100.0       3.0\n",
       "1      1903  51.000000      51.0      51.0\n",
       "2      1957  39.076772     101.0       5.0\n",
       "3      1897  38.500000      46.0      31.0\n",
       "4      1987  41.268920     131.0       5.0"
      ]
     },
     "execution_count": 62,
     "metadata": {},
     "output_type": "execute_result"
    }
   ],
   "source": [
    "pd_year_age_df.head()"
   ]
  },
  {
   "cell_type": "code",
   "execution_count": 70,
   "metadata": {},
   "outputs": [
    {
     "data": {
      "image/png": "[encoded data removed]",
      "text/plain": [
       "<Figure size 1440x432 with 1 Axes>"
      ]
     },
     "metadata": {
      "needs_background": "light"
     },
     "output_type": "display_data"
    }
   ],
   "source": [
    "plt.figure(figsize=(20,6))\n",
    "\n",
    "plt.plot(pd_year_age_df['startYear'],pd_year_age_df['avg(Age)'],color='red')\n",
    "# plt.plot(pd_year_age_df['startYear'],pd_year_age_df['max(Age)'],color='black')\n",
    "# plt.plot(pd_year_age_df['startYear'],pd_year_age_df['min(Age)'],color='blue')\n",
    "# plt.legend(pd_year_age_df['startYear'][0::2,])\n",
    "plt.xlabel('Year')\n",
    "plt.ylabel('AGE')\n",
    "plt.title('The GE Over Time')\n",
    "plt.show()"
   ]
  },
  {
   "cell_type": "code",
   "execution_count": null,
   "metadata": {},
   "outputs": [],
   "source": []
  }
 ],
 "metadata": {
  "kernelspec": {
   "display_name": "Python 3",
   "language": "python",
   "name": "python3"
  },
  "language_info": {
   "codemirror_mode": {
    "name": "ipython",
    "version": 3
   },
   "file_extension": ".py",
   "mimetype": "text/x-python",
   "name": "python",
   "nbconvert_exporter": "python",
   "pygments_lexer": "ipython3",
   "version": "3.7.3"
  }
 },
 "nbformat": 4,
 "nbformat_minor": 2
}
